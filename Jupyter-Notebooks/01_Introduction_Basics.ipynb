{
  "cells": [
    {
      "cell_type": "markdown",
      "metadata": {
        "id": "view-in-github",
        "colab_type": "text"
      },
      "source": [
        "<a href=\"https://colab.research.google.com/github/peter-adepoju/peter-adepoju.github.io/blob/main/Jupyter-Notebooks/01_Introduction_Basics.ipynb\" target=\"_parent\"><img src=\"https://colab.research.google.com/assets/colab-badge.svg\" alt=\"Open In Colab\"/></a>"
      ]
    },
    {
      "cell_type": "markdown",
      "id": "e56dc9cc",
      "metadata": {
        "id": "e56dc9cc"
      },
      "source": [
        "> <div align='center'> The following tutorial is based on Python 3.10</div>\n",
        "\n",
        "> <div align='center'>This tutorial is meant for beginners but also experienced programmers that wish to expand their knowledge</div>\n",
        "    \n",
        "> <div align='center'>No prior programming experience is needed but some basic notions of mathematics are recommended</div>\n",
        "\n",
        "[Python](https://docs.python.org/3.8/) is a high-level, object-oriented programming language that works on many platforms (Linux, Mac, Windows, Raspberry Pi, etc). It's easy to learn and is pretty much used for anything, some examples are:\n",
        "\n",
        "- Web development\n",
        "- Videogame development\n",
        "- AI & Machine Learning\n",
        "- Data analytics\n",
        "\n",
        "Everything in Python is an *object* of an specific type or class. Objects contain data in the form of attributes and code in the form of methods. Objects are instances of classes, which also determine their types.\n",
        "\n",
        "Objects are assigned to *variables*. A variable is a symbolic name that is a reference (or pointer) to an object, but the data itself is still contained within the object.\n",
        "\n",
        "<u>**This tutorial is divided into six notebooks/modules targeting different aspects:**</u>\n",
        "\n",
        "1. Introduction to Python for data analysis: Basics (<u>current one</u>)\n",
        "2. Introduction to Python for data analysis: Functions\n",
        "3. Introduction to Python for data analysis: Object-oriented programming\n",
        "4. Introduction to Python for data analysis: NumPy and Pandas\n",
        "5. Introduction to Python for data analysis: Data visualization\n",
        "6. Introduction to Python for data analysis: Helpful tips and modules"
      ]
    },
    {
      "cell_type": "markdown",
      "id": "98f0afb1",
      "metadata": {
        "id": "98f0afb1"
      },
      "source": [
        "# <div align=\"center\">Introduction to Python for data analysis: Basics</div>"
      ]
    },
    {
      "cell_type": "markdown",
      "id": "f6827ae6",
      "metadata": {
        "id": "f6827ae6"
      },
      "source": [
        "# Contents\n",
        "\n",
        "1. <a href=\"#intro\">Commenting, printing messages and defining text/numerical variables</a>\n",
        "    1. <a href='#commenting-and-printing'>How to comment code and print a message?</a>\n",
        "    2. <a href='#variable-names'>Variables and variable's names</a>\n",
        "    3. <a href='#string-variable'>How to define a variable containing text?</a>\n",
        "    4. <a href='#integer-variable'>How to define integers variables?</a>\n",
        "    5. <a href='#math'>Simple mathematical operations</a>\n",
        "    6. <a href='#decimal-variables'>How to define decimal values?</a>\n",
        "2. <a href='#printing'>Let's improve our printing</a>\n",
        "3. <a href='#booleans'>Booleans</a>\n",
        "4. <a href='#conditions'>Python conditions and if statements</a>\n",
        "5. <a href='#loops'>Loops</a>\n",
        "6. <a href='#tuples'>Tuples</a>\n",
        "7. <a href='#lists'>Lists</a>\n",
        "8. <a href='#sets'>Sets</a>\n",
        "9. <a href='#dicts'>Dictionaries</a>\n",
        "10. <a href='#mutables-vs-immutables'>Mutables vs immutables</a>\n",
        "11. <a href='#equality-vs-identity'>Equality vs identity</a>\n",
        "12. <a href='#importing'>Importing modules and packages</a>\n",
        "13. <a href='#exercises'>Exercises</a>\n",
        "    1. <a href='#solutions'>Solutions</a>"
      ]
    },
    {
      "cell_type": "markdown",
      "id": "5b83f30b",
      "metadata": {
        "id": "5b83f30b"
      },
      "source": [
        "## <div id='intro'>1. Commenting, printing messages, defining text and numerical variables</div>"
      ]
    },
    {
      "cell_type": "markdown",
      "id": "e5dc6739",
      "metadata": {
        "id": "e5dc6739"
      },
      "source": [
        "### <div id='commenting-and-printing'>1.A. How to comment code and print a message?</div>"
      ]
    },
    {
      "cell_type": "code",
      "execution_count": null,
      "id": "e6353d77",
      "metadata": {
        "id": "e6353d77",
        "outputId": "358aa0cb-c668-4450-fa9c-b8d9a6a1b6d4"
      },
      "outputs": [
        {
          "name": "stdout",
          "output_type": "stream",
          "text": [
            "Hello World!\n",
            "My other text\n"
          ]
        }
      ],
      "source": [
        "# This is a comment\n",
        "\n",
        "\"\"\"\n",
        "Note: this is another way\n",
        "of commenting multiple lines\n",
        "\"\"\"\n",
        "\n",
        "# This prints a 'Hello World!' message\n",
        "print('Hello World!')  # this is also a comment\n",
        "\n",
        "# I can also concatenate strings\n",
        "print('My', 'other', 'text')"
      ]
    },
    {
      "cell_type": "markdown",
      "id": "b94bf29d",
      "metadata": {
        "id": "b94bf29d"
      },
      "source": [
        "**Note:** ```print()``` is a function which takes any number of arguments, and prints them out on one line of text. Each argument is converted to text and is separated by spaces, adding a single '\\n' (new line char) at the end. When called with zero parameters, ```print()``` just prints '\\n' (empty line).\n",
        "\n",
        "As you can see from the examples above, when printing a string/text (for example: ```'Hellow World!'```), ```print()``` just prints out the text data of the string with not quotes.\n",
        "\n",
        "Functions will be further discussed later (in the 02_Introduction_Functions notebook). For now, you just need to know that there are built-in functions that can (or can't) take arguments and (usually, but not always) return something."
      ]
    },
    {
      "cell_type": "markdown",
      "id": "0e8fc139",
      "metadata": {
        "id": "0e8fc139"
      },
      "source": [
        "### <div id='variable-names'>1.B. Variables and variable's names</div>\n",
        "\n",
        "Variables are used to store numbers, text and other data formats (more about all this soon).\n",
        "\n",
        "One could imagine several different conventions for naming variables.\n",
        "\n",
        "The two most common naming conventions for variables are:\n",
        "\n",
        "#### camelCase:\n",
        "\n",
        "<u>Syntax:</u>\n",
        "\n",
        "```\n",
        "variableName = value\n",
        "```\n",
        "\n",
        "#### snake_case [prefered by community] [pep8 standard]\n",
        "\n",
        "<u>Syntax:</u>\n",
        "\n",
        "```\n",
        "my_var = value\n",
        "```\n",
        "\n",
        "<u>Extra</u>:\n",
        "pep8 style guide: https://www.python.org/dev/peps/pep-0008/"
      ]
    },
    {
      "cell_type": "markdown",
      "id": "87a47488",
      "metadata": {
        "id": "87a47488"
      },
      "source": [
        "### <div id='string-variable'>1.C. How to define a string variable (i.e. a variable containing text)?</div>\n",
        "\n",
        "<u>Possible syntaxes:</u>\n",
        "\n",
        "```\n",
        "variable_name = 'text'\n",
        "my_other_variable_name = \"my other text\"\n",
        "```\n",
        "\n",
        "All strings are stored as Unicode in an instance of the ```str``` class/type (classes will be discussed in the Introduction_Classes notebook)."
      ]
    },
    {
      "cell_type": "code",
      "execution_count": null,
      "id": "d48a7d20",
      "metadata": {
        "id": "d48a7d20"
      },
      "outputs": [],
      "source": [
        "string = 'My text'"
      ]
    },
    {
      "cell_type": "markdown",
      "id": "77c07136",
      "metadata": {
        "id": "77c07136"
      },
      "source": [
        "One can check the type of a variable with the function ```type()```:"
      ]
    },
    {
      "cell_type": "code",
      "execution_count": null,
      "id": "e3bad07d",
      "metadata": {
        "id": "e3bad07d",
        "outputId": "4b038bf3-dc1b-46c4-8d4c-f5ee39b00523"
      },
      "outputs": [
        {
          "name": "stdout",
          "output_type": "stream",
          "text": [
            "<class 'str'>\n"
          ]
        }
      ],
      "source": [
        "print(type(string))"
      ]
    },
    {
      "cell_type": "markdown",
      "id": "2498d695",
      "metadata": {
        "id": "2498d695"
      },
      "source": [
        "#### How to sum/concatenate strings?\n",
        "\n",
        "To concatenate strings, we can use the ```+``` operator:"
      ]
    },
    {
      "cell_type": "code",
      "execution_count": null,
      "id": "6b8dcaf1",
      "metadata": {
        "id": "6b8dcaf1",
        "outputId": "3bdb4b00-cef7-477f-ca53-5a055317d1d9"
      },
      "outputs": [
        {
          "name": "stdout",
          "output_type": "stream",
          "text": [
            "My name is Jonathan\n"
          ]
        }
      ],
      "source": [
        "string_1 = 'My name is '\n",
        "string_2 = 'Jonathan'\n",
        "string = string_1 + string_2\n",
        "print(string)"
      ]
    },
    {
      "cell_type": "markdown",
      "id": "0fac928a",
      "metadata": {
        "id": "0fac928a"
      },
      "source": [
        "**Note:** We can concatenate strings within a ```print()``` function:"
      ]
    },
    {
      "cell_type": "code",
      "execution_count": null,
      "id": "22224f26",
      "metadata": {
        "id": "22224f26",
        "outputId": "149d8112-fd60-4b93-a86e-3b7388c18c90"
      },
      "outputs": [
        {
          "name": "stdout",
          "output_type": "stream",
          "text": [
            "my_string = My name is Jonathan\n"
          ]
        }
      ],
      "source": [
        "my_string = 'My name is Jonathan'\n",
        "print('my_string = ' + my_string)"
      ]
    },
    {
      "cell_type": "markdown",
      "id": "237b80d2",
      "metadata": {
        "id": "237b80d2"
      },
      "source": [
        "#### How to replace a string by another string?\n",
        "\n",
        "This can be achieved by using the ```replace()``` function\n",
        "\n",
        "**Example:**"
      ]
    },
    {
      "cell_type": "code",
      "execution_count": null,
      "id": "388b6720",
      "metadata": {
        "id": "388b6720",
        "outputId": "4ea50d62-92df-4a6c-f7ed-8c7e7611c4b1"
      },
      "outputs": [
        {
          "name": "stdout",
          "output_type": "stream",
          "text": [
            "my_string = My name is David\n"
          ]
        }
      ],
      "source": [
        "my_string = my_string.replace('Jonathan', 'David')  # my_string now is changed!\n",
        "print('my_string = ' + my_string)"
      ]
    },
    {
      "cell_type": "markdown",
      "id": "677e1317",
      "metadata": {
        "id": "677e1317"
      },
      "source": [
        "**Note:** We need to store the result of the ```replace()``` function to a variable, in this case again to ```my_string```. If we don't do that, ```my_string``` will actually still point to ```'My name is Jonathan'```. This is true for all built-in functions that you can use on strings, you can find the full list of functions [here](https://www.w3schools.com/python/python_ref_string.asp). Let's see an example:"
      ]
    },
    {
      "cell_type": "code",
      "execution_count": null,
      "id": "2d1774f1",
      "metadata": {
        "id": "2d1774f1",
        "outputId": "f3f4a259-8794-4bb4-ff6e-4b6b8c984b7d"
      },
      "outputs": [
        {
          "name": "stdout",
          "output_type": "stream",
          "text": [
            "my_string = My name is Jonathan\n"
          ]
        }
      ],
      "source": [
        "my_string = 'My name is Jonathan'\n",
        "my_string.replace('Jonathan', 'David')  # my_string is NOT changed!\n",
        "print('my_string = ' + my_string)"
      ]
    },
    {
      "cell_type": "markdown",
      "id": "3f1c367c",
      "metadata": {
        "id": "3f1c367c"
      },
      "source": [
        "#### The ```format()``` function"
      ]
    },
    {
      "cell_type": "markdown",
      "id": "e37a15a6",
      "metadata": {
        "id": "e37a15a6"
      },
      "source": [
        "The ```format()``` function can be used to insert something into a string.\n",
        "\n",
        "<u>Syntax:</u>\n",
        "\n",
        "```\n",
        "variable = 'some text {} other text'.format(string)\n",
        "```\n",
        "\n",
        "Let's assume ```string = 'plus'```, in that case, the above will produce 'some text plus other text' (i.e. the content of ```string``` will be inserted where ```{}``` is placed). This work also for any other variable type that can be converted to ```str``` (```int```, ```float```, etc).\n",
        "\n",
        "\n",
        "**Example:**"
      ]
    },
    {
      "cell_type": "code",
      "execution_count": null,
      "id": "2df0e2c8",
      "metadata": {
        "id": "2df0e2c8",
        "outputId": "e13af9e0-3d67-4189-944b-97d94579613d"
      },
      "outputs": [
        {
          "name": "stdout",
          "output_type": "stream",
          "text": [
            "My name is Jonathan\n"
          ]
        }
      ],
      "source": [
        "my_name = 'Jonathan'\n",
        "string = 'My name is {}'.format(my_name)\n",
        "print(string)"
      ]
    },
    {
      "cell_type": "markdown",
      "id": "2335e06e",
      "metadata": {
        "id": "2335e06e"
      },
      "source": [
        "**If you need to insert something several times, you could use something like the following:**"
      ]
    },
    {
      "cell_type": "code",
      "execution_count": null,
      "id": "5685f5b4",
      "metadata": {
        "id": "5685f5b4",
        "outputId": "b9ba18aa-11d1-446a-f84c-c787e2723b5b"
      },
      "outputs": [
        {
          "name": "stdout",
          "output_type": "stream",
          "text": [
            "My name is Bond, James Bond\n"
          ]
        }
      ],
      "source": [
        "last_name = 'Bond'\n",
        "first_name = 'James'\n",
        "string = 'My name is {0}, {1} {0}'.format(last_name, first_name)\n",
        "print(string)"
      ]
    },
    {
      "cell_type": "markdown",
      "id": "db0aca4b",
      "metadata": {
        "id": "db0aca4b"
      },
      "source": [
        "**Note:** ```{0}``` is replaced by the first argument provided to the format function and ```{1}``` is replaced by the second."
      ]
    },
    {
      "cell_type": "markdown",
      "id": "9e64d909",
      "metadata": {
        "id": "9e64d909"
      },
      "source": [
        "#### How to find the position of a string within a string?\n",
        "\n",
        "```find()``` searches the string for a specified value and returns the starting position of where it was found (note: indexes start at zero!), it returns ```-1``` if it was not found.\n",
        "\n",
        "**Example:**"
      ]
    },
    {
      "cell_type": "code",
      "execution_count": null,
      "id": "7ca911c8",
      "metadata": {
        "id": "7ca911c8",
        "outputId": "7112bb29-d1d9-4c8a-8d6b-21e16fb847cb"
      },
      "outputs": [
        {
          "name": "stdout",
          "output_type": "stream",
          "text": [
            "\"car\" is at the position 12 in the \"Where is my car?\" string\n"
          ]
        }
      ],
      "source": [
        "string = 'Where is my car?'\n",
        "print('\"car\" is at the position {} in the \"{}\" string'.format(string.find(\"car\"), string))"
      ]
    },
    {
      "cell_type": "markdown",
      "id": "e326c74c",
      "metadata": {
        "id": "e326c74c"
      },
      "source": [
        "### <div id='integer-variable'>1.D. How to define integers variables?</div>"
      ]
    },
    {
      "cell_type": "code",
      "execution_count": null,
      "id": "25b702c5",
      "metadata": {
        "scrolled": true,
        "id": "25b702c5"
      },
      "outputs": [],
      "source": [
        "a = 1\n",
        "b = -2"
      ]
    },
    {
      "cell_type": "markdown",
      "id": "12c3f5ee",
      "metadata": {
        "id": "12c3f5ee"
      },
      "source": [
        "```a``` and ```b``` could be named pretty much as desired (exceptions and conventions will be seen later, see below)\n",
        "\n",
        "```a``` and ```b``` are of type ```int``` (class ```int```) [classes will be explained later (in the Introduction_Classes notebook)]\n",
        "\n",
        "You can use ```print(type(VARIABLE_NAME))``` to display the type class of ```VARIABLE_NAME```"
      ]
    },
    {
      "cell_type": "code",
      "execution_count": null,
      "id": "fe3049dc",
      "metadata": {
        "id": "fe3049dc",
        "outputId": "b8a183e7-fc9a-4d0f-f7f2-ae8a385c426b"
      },
      "outputs": [
        {
          "name": "stdout",
          "output_type": "stream",
          "text": [
            "<class 'int'>\n",
            "<class 'int'>\n"
          ]
        }
      ],
      "source": [
        "print(type(a))\n",
        "print(type(b))"
      ]
    },
    {
      "cell_type": "markdown",
      "id": "1489c754",
      "metadata": {
        "id": "1489c754"
      },
      "source": [
        "### How to print the value of a variable?\n",
        "\n",
        "Let's print the value of ```my_var``` using the ```format()``` function"
      ]
    },
    {
      "cell_type": "code",
      "execution_count": null,
      "id": "dfefccbf",
      "metadata": {
        "id": "dfefccbf",
        "outputId": "3811a20d-5ef4-4e25-fa18-a4bb9c06e874"
      },
      "outputs": [
        {
          "name": "stdout",
          "output_type": "stream",
          "text": [
            "a = 1\n"
          ]
        }
      ],
      "source": [
        "print('a = {}'.format(a))"
      ]
    },
    {
      "cell_type": "markdown",
      "id": "844d7014",
      "metadata": {
        "id": "844d7014"
      },
      "source": [
        "### <div id='math'>1.E. Simple mathematical operations</div>"
      ]
    },
    {
      "cell_type": "markdown",
      "id": "7b915559",
      "metadata": {
        "id": "7b915559"
      },
      "source": [
        "#### Sum"
      ]
    },
    {
      "cell_type": "code",
      "execution_count": null,
      "id": "aea67719",
      "metadata": {
        "id": "aea67719",
        "outputId": "80f5f37b-225b-4229-8d3e-5b384671903c"
      },
      "outputs": [
        {
          "name": "stdout",
          "output_type": "stream",
          "text": [
            "c(a+b)   = -1\n",
            "c(a+b+3) = 2\n"
          ]
        }
      ],
      "source": [
        "c = a+b\n",
        "print('c(a+b)   = {}'.format(c))\n",
        "\n",
        "# now sum 3 to c\n",
        "c += 3\n",
        "print('c(a+b+3) = {}'.format(c))"
      ]
    },
    {
      "cell_type": "markdown",
      "id": "1e134ac8",
      "metadata": {
        "id": "1e134ac8"
      },
      "source": [
        "Note that ```x += 3``` is equivalent to ```x = x + 3```\n",
        "\n",
        "So, the above can also be writen in the following way:"
      ]
    },
    {
      "cell_type": "code",
      "execution_count": null,
      "id": "89db9d3c",
      "metadata": {
        "id": "89db9d3c",
        "outputId": "32b0bc2a-df13-475c-bf0b-309ed71a2cf9"
      },
      "outputs": [
        {
          "name": "stdout",
          "output_type": "stream",
          "text": [
            "c(a+b+3) = 2\n"
          ]
        }
      ],
      "source": [
        "c = a+b\n",
        "c = c + 3  # new value for c is old value of c plus 3\n",
        "print('c(a+b+3) = {}'.format(c))"
      ]
    },
    {
      "cell_type": "markdown",
      "id": "74bdb1f1",
      "metadata": {
        "id": "74bdb1f1"
      },
      "source": [
        "#### Subtraction"
      ]
    },
    {
      "cell_type": "code",
      "execution_count": null,
      "id": "c840b4e3",
      "metadata": {
        "id": "c840b4e3",
        "outputId": "7a01cde8-dd19-488a-eaa3-d0ee1167c3e5"
      },
      "outputs": [
        {
          "name": "stdout",
          "output_type": "stream",
          "text": [
            "a-b = 3\n"
          ]
        }
      ],
      "source": [
        "d = a-b\n",
        "print('a-b = {}'.format(d))"
      ]
    },
    {
      "cell_type": "markdown",
      "id": "1e227ac5",
      "metadata": {
        "id": "1e227ac5"
      },
      "source": [
        "Another example:"
      ]
    },
    {
      "cell_type": "code",
      "execution_count": null,
      "id": "338e9062",
      "metadata": {
        "id": "338e9062",
        "outputId": "558e8e03-e1a6-4f7d-c301-d54f69e265e9"
      },
      "outputs": [
        {
          "name": "stdout",
          "output_type": "stream",
          "text": [
            "(a-b)**2 = 9\n"
          ]
        }
      ],
      "source": [
        "var = (a-b)**2\n",
        "print('(a-b)**2 = {}'.format(var))"
      ]
    },
    {
      "cell_type": "markdown",
      "id": "5e99e353",
      "metadata": {
        "id": "5e99e353"
      },
      "source": [
        "#### Mutiplication"
      ]
    },
    {
      "cell_type": "code",
      "execution_count": null,
      "id": "40517c0e",
      "metadata": {
        "id": "40517c0e",
        "outputId": "9057f51d-fc8a-40ae-8d69-a8bf55bc3c8d"
      },
      "outputs": [
        {
          "name": "stdout",
          "output_type": "stream",
          "text": [
            "5 times 3 = 15\n"
          ]
        }
      ],
      "source": [
        "e = 5 * 3\n",
        "print('5 times 3 = {}'.format(e))"
      ]
    },
    {
      "cell_type": "markdown",
      "id": "c2f3f9fc",
      "metadata": {
        "id": "c2f3f9fc"
      },
      "source": [
        "#### Division"
      ]
    },
    {
      "cell_type": "code",
      "execution_count": null,
      "id": "ad2e4c59",
      "metadata": {
        "id": "ad2e4c59",
        "outputId": "01d59866-3e97-4702-f9dd-ae50738dd67f"
      },
      "outputs": [
        {
          "name": "stdout",
          "output_type": "stream",
          "text": [
            "10 divided by 2 = 5.0\n"
          ]
        }
      ],
      "source": [
        "f = 10/2\n",
        "print('10 divided by 2 = {}'.format(f))"
      ]
    },
    {
      "cell_type": "markdown",
      "id": "5cdb14c0",
      "metadata": {
        "id": "5cdb14c0"
      },
      "source": [
        "#### Exponentiation"
      ]
    },
    {
      "cell_type": "code",
      "execution_count": null,
      "id": "d39d5aca",
      "metadata": {
        "id": "d39d5aca",
        "outputId": "a9ebf0de-16dc-491d-ce73-efaaf1a832d6"
      },
      "outputs": [
        {
          "name": "stdout",
          "output_type": "stream",
          "text": [
            "3^3 (i.e. 3*3*3) = 27\n"
          ]
        }
      ],
      "source": [
        "g = 3**3\n",
        "print('3^3 (i.e. 3*3*3) = {}'.format(g))"
      ]
    },
    {
      "cell_type": "markdown",
      "id": "1a72b8bf",
      "metadata": {
        "id": "1a72b8bf"
      },
      "source": [
        "### <div id='decimal-variables'>1.F. How to define decimal values?</div>"
      ]
    },
    {
      "cell_type": "code",
      "execution_count": null,
      "id": "b68b7254",
      "metadata": {
        "id": "b68b7254"
      },
      "outputs": [],
      "source": [
        "ad = 2.1\n",
        "bd = 100.32"
      ]
    },
    {
      "cell_type": "markdown",
      "id": "d096fbd0",
      "metadata": {
        "id": "d096fbd0"
      },
      "source": [
        "```ad``` and ```bd``` are of type ```float``` (class ```float```)"
      ]
    },
    {
      "cell_type": "code",
      "execution_count": null,
      "id": "1353462f",
      "metadata": {
        "id": "1353462f",
        "outputId": "10c77e47-210a-4bac-b884-2a02a1f1cb2d"
      },
      "outputs": [
        {
          "name": "stdout",
          "output_type": "stream",
          "text": [
            "<class 'float'>\n",
            "<class 'float'>\n"
          ]
        }
      ],
      "source": [
        "print(type(ad))\n",
        "print(type(bd))"
      ]
    },
    {
      "cell_type": "markdown",
      "id": "f0dc7945",
      "metadata": {
        "id": "f0dc7945"
      },
      "source": [
        "### Assign multiple values to multiple variables"
      ]
    },
    {
      "cell_type": "code",
      "execution_count": null,
      "id": "04857b33",
      "metadata": {
        "id": "04857b33",
        "outputId": "976bddff-2122-45fa-8af6-450a1581a8b3"
      },
      "outputs": [
        {
          "name": "stdout",
          "output_type": "stream",
          "text": [
            "x = 100\n",
            "y = 200\n"
          ]
        }
      ],
      "source": [
        "x, y = 100, 200\n",
        "print('x = {}'.format(x))\n",
        "print('y = {}'.format(y))"
      ]
    },
    {
      "cell_type": "markdown",
      "id": "0792f939",
      "metadata": {
        "id": "0792f939"
      },
      "source": [
        "### You can assign more than two and it is also possible to assign variables to different types"
      ]
    },
    {
      "cell_type": "code",
      "execution_count": null,
      "id": "1d4d21f4",
      "metadata": {
        "id": "1d4d21f4",
        "outputId": "7cabbf99-cbba-4934-93d6-74eec64af5e9"
      },
      "outputs": [
        {
          "name": "stdout",
          "output_type": "stream",
          "text": [
            "x = 10\n",
            "y = 20\n",
            "z = text\n"
          ]
        }
      ],
      "source": [
        "x, y, z = 10, 20, 'text'\n",
        "print('x = {}'.format(x))\n",
        "print('y = {}'.format(y))\n",
        "print('z = {}'.format(z))"
      ]
    },
    {
      "cell_type": "markdown",
      "id": "720a9c5a",
      "metadata": {
        "id": "720a9c5a"
      },
      "source": [
        "### Assign the same value to multiple variables"
      ]
    },
    {
      "cell_type": "code",
      "execution_count": null,
      "id": "bfb527d6",
      "metadata": {
        "id": "bfb527d6",
        "outputId": "b01ec24b-4d6a-4963-bba8-df8300fdec21"
      },
      "outputs": [
        {
          "name": "stdout",
          "output_type": "stream",
          "text": [
            "x = 5\n",
            "y = 5\n"
          ]
        }
      ],
      "source": [
        "x = y = 5\n",
        "print('x = {}'.format(x))\n",
        "print('y = {}'.format(y))"
      ]
    },
    {
      "cell_type": "markdown",
      "id": "b2a06f8c",
      "metadata": {
        "id": "b2a06f8c"
      },
      "source": [
        "## <div id='printing'>2. Let's improve our printing</div>"
      ]
    },
    {
      "cell_type": "markdown",
      "id": "6c1b2b85",
      "metadata": {
        "id": "6c1b2b85"
      },
      "source": [
        "Let's print ```a``` and ```ad``` (defined above)"
      ]
    },
    {
      "cell_type": "code",
      "execution_count": null,
      "id": "de490360",
      "metadata": {
        "id": "de490360",
        "outputId": "d7ee2599-5a61-4c54-a946-35ddde0d45ee"
      },
      "outputs": [
        {
          "name": "stdout",
          "output_type": "stream",
          "text": [
            "a  = 1\n",
            "ad = 2.1\n"
          ]
        }
      ],
      "source": [
        "print('a  = {}'.format(a))\n",
        "print('ad = {}'.format(ad))"
      ]
    },
    {
      "cell_type": "markdown",
      "id": "3dd62db7",
      "metadata": {
        "id": "3dd62db7"
      },
      "source": [
        "**Let's now use f-string (Python 3.6+)**\n",
        "\n",
        "f-string is a shorter way of using ```format()``` when constructing a string (variable of type ```str```). This can be particularly helpful when printing.\n",
        "\n",
        "<u>Syntax:</u>\n",
        "\n",
        "```\n",
        "string = f'{variable_name}'\n",
        "```\n",
        "\n",
        "```{variable_name}``` will be replaced by the value of ```variable_name```\n",
        "\n",
        "The above simplifies the old ```format()``` method:\n",
        "\n",
        "```\n",
        "string = '{}'.format(variable_name)\n",
        "```"
      ]
    },
    {
      "cell_type": "markdown",
      "id": "df7d32f9",
      "metadata": {
        "id": "df7d32f9"
      },
      "source": [
        "**Example 1:**"
      ]
    },
    {
      "cell_type": "code",
      "execution_count": null,
      "id": "2841fa94",
      "metadata": {
        "id": "2841fa94",
        "outputId": "a16afe8a-daf8-4c57-b04a-9dd8bf5b71b4"
      },
      "outputs": [
        {
          "name": "stdout",
          "output_type": "stream",
          "text": [
            "a  = 1\n",
            "ad = 2.1\n"
          ]
        }
      ],
      "source": [
        "print(f'a  = {a}')\n",
        "print(f'ad = {ad}')"
      ]
    },
    {
      "cell_type": "markdown",
      "id": "b1069213",
      "metadata": {
        "id": "b1069213"
      },
      "source": [
        "**Reminder:** this works for formatting any string (not only to be used with print!)"
      ]
    },
    {
      "cell_type": "markdown",
      "id": "05d4d5d1",
      "metadata": {
        "id": "05d4d5d1"
      },
      "source": [
        "**Example 2:**"
      ]
    },
    {
      "cell_type": "code",
      "execution_count": null,
      "id": "d6b4a3b4",
      "metadata": {
        "id": "d6b4a3b4",
        "outputId": "57e56e2f-be2a-4e9f-c5e3-832201892b89"
      },
      "outputs": [
        {
          "name": "stdout",
          "output_type": "stream",
          "text": [
            "f-string is awesome!\n"
          ]
        }
      ],
      "source": [
        "awesome = 'awesome'\n",
        "string = f'f-string is {awesome}!'\n",
        "print(string)"
      ]
    },
    {
      "cell_type": "markdown",
      "id": "a8fe2825",
      "metadata": {
        "id": "a8fe2825"
      },
      "source": [
        "**Or even better=shorter (Python 3.8+):**\n",
        "\n",
        "<u>Syntax:</u>\n",
        "\n",
        "```\n",
        "string = f'{variable_name = }'\n",
        "```\n",
        "\n",
        "**Note:** the equal (```=```) goes inside the ```{}``` and after ```variable_name```\n",
        "\n",
        "The above will print ```variable_name = variable_name's content```"
      ]
    },
    {
      "cell_type": "code",
      "execution_count": null,
      "id": "9a93f3bb",
      "metadata": {
        "id": "9a93f3bb",
        "outputId": "6dff35ce-663b-4713-f18d-7f6c245caaf6"
      },
      "outputs": [
        {
          "name": "stdout",
          "output_type": "stream",
          "text": [
            "a  = 1\n",
            "ad = 2.1\n"
          ]
        }
      ],
      "source": [
        "print(f'{a  = }')\n",
        "print(f'{ad = }')"
      ]
    },
    {
      "cell_type": "markdown",
      "id": "28fea6d5",
      "metadata": {
        "id": "28fea6d5"
      },
      "source": [
        "**Multiple inputs to format (using format and f-string):**"
      ]
    },
    {
      "cell_type": "code",
      "execution_count": null,
      "id": "954d4ec9",
      "metadata": {
        "id": "954d4ec9",
        "outputId": "dc6e1bd2-04f2-4e45-ef63-07cc76cb85c9"
      },
      "outputs": [
        {
          "name": "stdout",
          "output_type": "stream",
          "text": [
            "a=1 and ad=2.1\n",
            "a=1 and ad=2.1\n"
          ]
        }
      ],
      "source": [
        "print('a={} and ad={}'.format(a,ad))\n",
        "print(f'a={a} and ad={ad}')"
      ]
    },
    {
      "cell_type": "markdown",
      "id": "9b2bd13c",
      "metadata": {
        "id": "9b2bd13c"
      },
      "source": [
        "## <div id='booleans'>3. Booleans</div>\n",
        "\n",
        "Booleans are of type ```bool```"
      ]
    },
    {
      "cell_type": "code",
      "execution_count": null,
      "id": "5048e488",
      "metadata": {
        "id": "5048e488",
        "outputId": "e3bde703-a6c7-4b7a-ed81-f32b59658988"
      },
      "outputs": [
        {
          "name": "stdout",
          "output_type": "stream",
          "text": [
            "type(pass_a) = <class 'bool'>\n",
            "type(pass_b) = <class 'bool'>\n"
          ]
        }
      ],
      "source": [
        "pass_a = True  # also equal to 1\n",
        "pass_b = False # also equal to 0\n",
        "print(f'{type(pass_a) = }')\n",
        "print(f'{type(pass_b) = }')"
      ]
    },
    {
      "cell_type": "markdown",
      "id": "81ae9d45",
      "metadata": {
        "id": "81ae9d45"
      },
      "source": [
        "### What does ```bool(string)``` return?\n",
        "\n",
        "If I pass an empty string to ```bool()```, it will return ```False```. If I pass an non-empty string to ```bool()```, it will return ```True```.\n",
        "\n",
        "**Examples:**"
      ]
    },
    {
      "cell_type": "code",
      "execution_count": null,
      "id": "b4197a68",
      "metadata": {
        "id": "b4197a68",
        "outputId": "91c071ad-caf5-47f8-d89f-e4d56fef9de6"
      },
      "outputs": [
        {
          "name": "stdout",
          "output_type": "stream",
          "text": [
            "bool(string_1) = False\n",
            "bool(string_2) = True\n",
            "bool(string_3) = True\n"
          ]
        }
      ],
      "source": [
        "string_1 = ''\n",
        "string_2 = 'test'\n",
        "string_3 = ' ' # this is also not an empty string (it has an space!)\n",
        "print(f'{bool(string_1) = }')\n",
        "print(f'{bool(string_2) = }')\n",
        "print(f'{bool(string_3) = }')"
      ]
    },
    {
      "cell_type": "markdown",
      "id": "807be9d7",
      "metadata": {
        "id": "807be9d7"
      },
      "source": [
        "## <div id='conditions'>4. Python conditions and if statements</div>\n",
        "\n",
        "### Conditions\n",
        "\n",
        "* Equals: ```a == b```\n",
        "* Not Equals: ```a != b```\n",
        "* Less than: ```a < b```\n",
        "* Less than or equal to: ```a <= b```\n",
        "* Greater than: ```a > b```\n",
        "* Greater than or equal to: ```a >= b```\n",
        "\n",
        "### if else elif\n",
        "\n",
        "Usage:\n",
        "```\n",
        "if condition:  # if condition is True, it will execute what is inside (i.e. do something)\n",
        "    # do something (note: the identation must be 2/4 spaces or a tab (4 spaces are the preferred indentation method), and must be consistent!)\n",
        "elif other_condition: (i.e. else if)\n",
        "    # do something else  \n",
        "else:  # if none of the above are True\n",
        "    # do another thing\n",
        "````\n",
        "\n",
        "#### Example 1:"
      ]
    },
    {
      "cell_type": "code",
      "execution_count": null,
      "id": "74d2517f",
      "metadata": {
        "id": "74d2517f",
        "outputId": "ccc6f3b0-002c-44ff-b646-ce5f5f266266"
      },
      "outputs": [
        {
          "name": "stdout",
          "output_type": "stream",
          "text": [
            "pass_a is True\n"
          ]
        }
      ],
      "source": [
        "if pass_a:  # it will enter since it was defined as True (see above)\n",
        "    print('pass_a is True')\n",
        "else:  # if pass_a is False, it will execute what is below\n",
        "    print('pass_a is not True, i.e. is False')"
      ]
    },
    {
      "cell_type": "markdown",
      "id": "f0c9c490",
      "metadata": {
        "id": "f0c9c490"
      },
      "source": [
        "#### Example 2:\n",
        "\n",
        "```if not variable``` is only ```True``` if ```variable``` is ```False```"
      ]
    },
    {
      "cell_type": "code",
      "execution_count": null,
      "id": "c01dbe9e",
      "metadata": {
        "id": "c01dbe9e",
        "outputId": "923da316-1898-43ac-dc14-6c3482bd8638"
      },
      "outputs": [
        {
          "name": "stdout",
          "output_type": "stream",
          "text": [
            "pass_b is False\n"
          ]
        }
      ],
      "source": [
        "if not pass_b:  # it will enter since pass_b was defined as False (see above)\n",
        "    # if pass_b is True, then condition is equal to False\n",
        "    # if pass_b is False, then condition is equal to True and is satisfied and executes what is below\n",
        "    print('pass_b is False')\n",
        "else:\n",
        "    print('pass_b is True, i.e. is not False')"
      ]
    },
    {
      "cell_type": "markdown",
      "id": "fa66ba92",
      "metadata": {
        "id": "fa66ba92"
      },
      "source": [
        "#### Example 3: Compare strings"
      ]
    },
    {
      "cell_type": "code",
      "execution_count": null,
      "id": "a12aceb9",
      "metadata": {
        "id": "a12aceb9",
        "outputId": "a183ded2-29f6-483a-9770-e740f002e25a"
      },
      "outputs": [
        {
          "name": "stdout",
          "output_type": "stream",
          "text": [
            "string = 'f-string is awesome!'\n",
            "string is not equal to \"My other text\"\n"
          ]
        }
      ],
      "source": [
        "print(f'{string = }')\n",
        "if string == 'My text':\n",
        "    print('string is equal to \"My text\"')  # note how I managed to use a quote (\"\" and '' and interchangeable)\n",
        "\n",
        "if string != 'My other text':\n",
        "    print('string is not equal to \"My other text\"')  # note that I used \"\" to show text in the print"
      ]
    },
    {
      "cell_type": "markdown",
      "id": "d52c4b39",
      "metadata": {
        "id": "d52c4b39"
      },
      "source": [
        "#### Example 4: Compare integers"
      ]
    },
    {
      "cell_type": "code",
      "execution_count": null,
      "id": "7fce90c5",
      "metadata": {
        "id": "7fce90c5",
        "outputId": "14360986-6c59-414d-869f-282e3d3a7a48"
      },
      "outputs": [
        {
          "name": "stdout",
          "output_type": "stream",
          "text": [
            "n is equal to 100\n",
            "n is not equal to 50\n",
            "n is larger than 50\n",
            "n is smaller than 1000\n"
          ]
        }
      ],
      "source": [
        "n = 100\n",
        "if n == 50:  # == means equal\n",
        "    print('n is equal to 50')\n",
        "elif n == 100:\n",
        "    print('n is equal to 100')\n",
        "else:\n",
        "    print('n is not equal to 50 nor to 100')\n",
        "\n",
        "if n != 50:  # != means different\n",
        "    print('n is not equal to 50')\n",
        "\n",
        "if n > 50:  # > means larger\n",
        "    print('n is larger than 50')\n",
        "\n",
        "if n < 1000:  # < means smaller\n",
        "    print('n is smaller than 1000')"
      ]
    },
    {
      "cell_type": "markdown",
      "id": "ffaaed76",
      "metadata": {
        "id": "ffaaed76"
      },
      "source": [
        "#### Example 5: In-line if else (```var = value_1 if CONDITION else value_2```)"
      ]
    },
    {
      "cell_type": "code",
      "execution_count": null,
      "id": "12c80480",
      "metadata": {
        "id": "12c80480",
        "outputId": "6861f811-f32a-4095-da2a-11faea5e4317"
      },
      "outputs": [
        {
          "name": "stdout",
          "output_type": "stream",
          "text": [
            "sucess = False\n"
          ]
        }
      ],
      "source": [
        "sucess = True if string == 'My text' else False # sucess is True if string == 'My text', otherwise is False\n",
        "print(f'{sucess = }')"
      ]
    },
    {
      "cell_type": "markdown",
      "id": "a4e55e8a",
      "metadata": {
        "id": "a4e55e8a"
      },
      "source": [
        "#### Example 6: Check if a string starts with a another given string, by using the ```startswith()``` function"
      ]
    },
    {
      "cell_type": "code",
      "execution_count": null,
      "id": "13a6bc16",
      "metadata": {
        "id": "13a6bc16",
        "outputId": "e1d2b813-65b6-4d97-c85a-eee72e67742e"
      },
      "outputs": [
        {
          "name": "stdout",
          "output_type": "stream",
          "text": [
            "The phrace \"An apple a day keeps the doctor away\" starts with \"An\"\n"
          ]
        }
      ],
      "source": [
        "string = 'An apple a day keeps the doctor away'\n",
        "if string.startswith('An'):\n",
        "    print(f'The phrace \"{string}\" starts with \"An\"')"
      ]
    },
    {
      "cell_type": "markdown",
      "id": "a3db688d",
      "metadata": {
        "id": "a3db688d"
      },
      "source": [
        "**Note:** One can check if a string ends with a given string with the ```endswith()``` function.\n",
        "\n",
        "For a complete list of functions (also called methods, more about this in the Introduction_Classes notebook) available for the ```str``` type, check https://www.w3schools.com/python/python_ref_string.asp."
      ]
    },
    {
      "cell_type": "markdown",
      "id": "62fc5d00",
      "metadata": {
        "id": "62fc5d00"
      },
      "source": [
        "### Logical operators\n",
        "\n",
        "* ```and```: returns ```True``` if both statements are ```True```.\n",
        "\n",
        "* ```or```: returns ```True``` if one of the statements is ```True.\n",
        "\n",
        "* ```not```: already discussed (it reverse the result, i.e returns ```False``` if the result is ```True```).\n",
        "\n",
        "**Examples:**"
      ]
    },
    {
      "cell_type": "code",
      "execution_count": null,
      "id": "44cec45e",
      "metadata": {
        "id": "44cec45e",
        "outputId": "c84d585e-4bca-4bec-e720-acbe2cf0b3f0"
      },
      "outputs": [
        {
          "name": "stdout",
          "output_type": "stream",
          "text": [
            "x == 5 and y == 6\n",
            "x == 5 or y == 5\n"
          ]
        }
      ],
      "source": [
        "x = 5\n",
        "y = 6\n",
        "if x == 5 and y == 6:\n",
        "    print('x == 5 and y == 6')\n",
        "\n",
        "if x == 5 or y == 5:\n",
        "    print('x == 5 or y == 5')"
      ]
    },
    {
      "cell_type": "markdown",
      "id": "4da37f76",
      "metadata": {
        "id": "4da37f76"
      },
      "source": [
        "**Note:** One can use as many ```and``` and ```or``` as desired and all logical operators can be used simultaneously. Example: ```if x < a and y < b and (pass_1 or pass_2):```"
      ]
    },
    {
      "cell_type": "markdown",
      "id": "3eda93ce",
      "metadata": {
        "id": "3eda93ce"
      },
      "source": [
        "**Important:** Any variable defined within an ```if condition``` can also be accessed outside the condition. Examples:"
      ]
    },
    {
      "cell_type": "code",
      "execution_count": null,
      "id": "c03dfbc2",
      "metadata": {
        "id": "c03dfbc2",
        "outputId": "39be737d-816e-4cf5-bd78-37c1929c3b3f"
      },
      "outputs": [
        {
          "name": "stdout",
          "output_type": "stream",
          "text": [
            "z = 0.8333333333333334\n",
            "z = -1\n"
          ]
        }
      ],
      "source": [
        "x = 5\n",
        "y = 6\n",
        "if x and y:  # equal to if x >0 and y > 0\n",
        "    z = x / y\n",
        "print(f'{z = }')\n",
        "\n",
        "x = 10\n",
        "y = 0\n",
        "if x and y:\n",
        "    z = x /y\n",
        "elif not y:  # equal to elif y == 0\n",
        "    z = -1\n",
        "print(f'{z = }')"
      ]
    },
    {
      "cell_type": "markdown",
      "id": "9f1c73d2",
      "metadata": {
        "id": "9f1c73d2"
      },
      "source": [
        "### Sometimes, ```and``` can be suppressed: the ```x < y < z``` case\n",
        "\n",
        "The following two conditions are equivalent:"
      ]
    },
    {
      "cell_type": "code",
      "execution_count": null,
      "id": "01cdca4b",
      "metadata": {
        "id": "01cdca4b",
        "outputId": "6aef5111-b2f1-4313-8950-da4bae9b9aec"
      },
      "outputs": [
        {
          "name": "stdout",
          "output_type": "stream",
          "text": [
            "x < y < z\n",
            "x < y < z\n"
          ]
        }
      ],
      "source": [
        "x = 5\n",
        "y = 6\n",
        "z = 7\n",
        "\n",
        "if x < y and y < z:\n",
        "    print('x < y < z')\n",
        "\n",
        "if x < y < z:\n",
        "    print('x < y < z')"
      ]
    },
    {
      "cell_type": "markdown",
      "id": "0c2e03a4",
      "metadata": {
        "id": "0c2e03a4"
      },
      "source": [
        "### Structural Pattern Matching: match and state statements\n",
        "\n",
        "Since Python [3.10](https://docs.python.org/3/whatsnew/3.10.html), a match statement can be used to take an expression and compare its value to successive patterns given as one or more case blocks.\n",
        "\n",
        "Syntax:\n",
        "\n",
        "```\n",
        "match subject:\n",
        "    case <pattern_1>:\n",
        "        <action_1>\n",
        "    case <pattern_2>:\n",
        "        <action_2>\n",
        "    case <pattern_3>:\n",
        "        <action_3>\n",
        "    case _:\n",
        "        <action_wildcard>\n",
        "```\n",
        "\n",
        "The case statement with ```_``` will match as a wildcard (i.e. if no other pattern matched), and its usage is optional. Let's have a look at an example:"
      ]
    },
    {
      "cell_type": "code",
      "execution_count": null,
      "id": "befe7614",
      "metadata": {
        "id": "befe7614",
        "outputId": "a549ed8b-b471-4864-c39b-3f79690f4ac5"
      },
      "outputs": [
        {
          "name": "stdout",
          "output_type": "stream",
          "text": [
            "Error 404: Page not found\n"
          ]
        }
      ],
      "source": [
        "error = 404\n",
        "match error:\n",
        "    case 505:\n",
        "        print(f'Error {error}: HTTP version not supported')\n",
        "    case 503:\n",
        "        print(f'Error {error}: Server unavailable')\n",
        "    case 404:\n",
        "        print(f'Error {error}: Page not found')"
      ]
    },
    {
      "cell_type": "markdown",
      "id": "56474eb6",
      "metadata": {
        "id": "56474eb6"
      },
      "source": [
        "Note: It is possible to combine several expressions using OR (|). For example:\n",
        "\n",
        "```\n",
        "match error:\n",
        "    case 505 | 500:\n",
        "        print(f'Error {error}: Server error')\n",
        "    case 503:\n",
        "        print(f'Error {error}: Server unavailable')\n",
        "    case 404:\n",
        "        print(f'Error {error}: Page not found')\n",
        "```\n",
        "\n",
        "For more examples, see [3.10](https://docs.python.org/3/whatsnew/3.10.html)"
      ]
    },
    {
      "cell_type": "markdown",
      "id": "ad8e8a5e",
      "metadata": {
        "id": "ad8e8a5e"
      },
      "source": [
        "## <div id='loops'>5. Loops</div>\n",
        "\n",
        "Imagine we want to print numbers from 0 to 9\n",
        "\n",
        "```range(n)```: gives numbers from 0 upto n-1 (incrementing by 1)\n",
        "\n",
        "```\n",
        "for i in range(10):  # i could be named as you wish\n",
        "    print(i)  # note: the identation (must be 2/4 spaces or a tab, and must be consistent!)\n",
        "    # remember: we can print variables of other types too! here i is of type int\n",
        "    # I leave the loop once i reaches 10 and content is not executed\n",
        "```\n",
        "\n",
        "\n",
        "**Throughout explanation:**\n",
        "\n",
        "The above checks if ```i``` is smaller than 10, if it is, then executes what is within the loop (the print)\n",
        "then, increments ```i``` by 1, checks again if ```i``` is smaller than 10, if it is, executes the print and so on...\n",
        "until ```i == 10``` (hence not smaller than 10) which stops the loop (print is not executed) and the loop ends\n",
        "\n",
        "**Important:** ```range(n)``` starts always at zero, if one wants to start at any other value, one should use ```range(start, n)``` instead."
      ]
    },
    {
      "cell_type": "code",
      "execution_count": null,
      "id": "c141cfc1",
      "metadata": {
        "id": "c141cfc1",
        "outputId": "df888c67-3fc8-4feb-cfeb-7d88bffd8f72"
      },
      "outputs": [
        {
          "name": "stdout",
          "output_type": "stream",
          "text": [
            "0\n",
            "1\n",
            "2\n",
            "3\n",
            "4\n",
            "5\n",
            "6\n",
            "7\n",
            "8\n",
            "9\n"
          ]
        }
      ],
      "source": [
        "for i in range(10):\n",
        "    print(i)"
      ]
    },
    {
      "cell_type": "markdown",
      "id": "6f415b80",
      "metadata": {
        "id": "6f415b80"
      },
      "source": [
        "The above is equivalent to the following (now using ```while```)"
      ]
    },
    {
      "cell_type": "code",
      "execution_count": null,
      "id": "c2a0bff4",
      "metadata": {
        "id": "c2a0bff4",
        "outputId": "128fc18b-43e1-4f24-b247-3cbb483ba9b3"
      },
      "outputs": [
        {
          "name": "stdout",
          "output_type": "stream",
          "text": [
            "\n",
            "Now do a loop using while \n",
            "\n",
            "0\n",
            "1\n",
            "2\n",
            "3\n",
            "4\n",
            "5\n",
            "6\n",
            "7\n",
            "8\n",
            "9\n"
          ]
        }
      ],
      "source": [
        "print('\\nNow do a loop using while \\n')\n",
        "i = 0\n",
        "while i < 10:  # enter only if i is smaller than 10\n",
        "    print(i)\n",
        "    i += 1  # here I increment manually i by 1"
      ]
    },
    {
      "cell_type": "markdown",
      "id": "4320e1f9",
      "metadata": {
        "id": "4320e1f9"
      },
      "source": [
        "### How to break/exit a loop?\n",
        "\n",
        "Use the ```break``` statement.\n",
        "\n",
        "**Example:**"
      ]
    },
    {
      "cell_type": "code",
      "execution_count": null,
      "id": "4a0a105f",
      "metadata": {
        "id": "4a0a105f",
        "outputId": "71021f33-dac8-41a9-cd37-c47d31d0ef5f"
      },
      "outputs": [
        {
          "name": "stdout",
          "output_type": "stream",
          "text": [
            "i = 0\n",
            "i = 1\n",
            "i = 2\n",
            "i = 3\n",
            "i = 4\n",
            "i = 5\n"
          ]
        }
      ],
      "source": [
        "for i in range(10):\n",
        "    if i > 5:\n",
        "        break\n",
        "    print(f'{i = }')"
      ]
    },
    {
      "cell_type": "markdown",
      "id": "02aec334",
      "metadata": {
        "id": "02aec334"
      },
      "source": [
        "### How to skip some iterations on a loop?\n",
        "\n",
        "The ```continue``` statement allows you to skip over the part of a loop, but the rest of the loop will be completed, i.e. the current iteration of the loop will not finish, but the program will return to the top of the loop.\n",
        "\n",
        "**Example:** print odd numbers between 0 and 9"
      ]
    },
    {
      "cell_type": "code",
      "execution_count": null,
      "id": "18a42af5",
      "metadata": {
        "id": "18a42af5",
        "outputId": "73aff9c6-0323-4538-fdc4-94c800f772f7"
      },
      "outputs": [
        {
          "name": "stdout",
          "output_type": "stream",
          "text": [
            "i = 1\n",
            "i = 3\n",
            "i = 5\n",
            "i = 7\n",
            "i = 9\n"
          ]
        }
      ],
      "source": [
        "for i in range(10):\n",
        "    if i % 2 == 0:  # True if i is even (x % 2 gives the remainder of the division)\n",
        "        continue  # skip this iteration (based on the value of i, in this case when i is odd)\n",
        "    print(f'{i = }')"
      ]
    },
    {
      "cell_type": "markdown",
      "id": "d7afd5d8",
      "metadata": {
        "id": "d7afd5d8"
      },
      "source": [
        "**Note:** the above can be written more compactly:\n",
        "\n",
        "```\n",
        "for i in range(10):\n",
        "    if i % 2 != 0:\n",
        "        print(f'{i = }')\n",
        "```"
      ]
    },
    {
      "cell_type": "markdown",
      "id": "3ac4d536",
      "metadata": {
        "id": "3ac4d536"
      },
      "source": [
        "## <div id='tuples'>6. Tuples</div>"
      ]
    },
    {
      "cell_type": "markdown",
      "id": "1c2a53e1",
      "metadata": {
        "id": "1c2a53e1"
      },
      "source": [
        "Tuples are used to store multiple items in a single variable.\n",
        "\n",
        "A ```tuple``` is one of the 4 built-in data types in Python used to store collections of data, the other 3 are ```list```, ```set```, and ```dict``` (all these will be introduced later).\n",
        "\n",
        "A tuple is a collection which is **ordered** (which means the order in which you put the items is kept).\n",
        "\n",
        "**Items on a tuple can be duplicated.**\n",
        "\n",
        "Tuples are written with round brackets ```()```.\n",
        "\n",
        "Tuples are immutable (this will be explained later on this notebook).\n",
        "\n",
        "**Example:**"
      ]
    },
    {
      "cell_type": "code",
      "execution_count": null,
      "id": "420786ba",
      "metadata": {
        "id": "420786ba",
        "outputId": "ce0b3e76-d3e6-4d01-f3dd-d475958ed037"
      },
      "outputs": [
        {
          "name": "stdout",
          "output_type": "stream",
          "text": [
            "The type of my_tuple is <class 'tuple'>\n",
            "my_tuple = ('apple', 'orange', 'pineapple', 'strawberry')\n"
          ]
        }
      ],
      "source": [
        "my_tuple = ('apple', 'orange', 'pineapple', 'strawberry')\n",
        "print(f'The type of my_tuple is {type(my_tuple)}')\n",
        "print(f'{my_tuple = }')"
      ]
    },
    {
      "cell_type": "markdown",
      "id": "2c529015",
      "metadata": {
        "id": "2c529015"
      },
      "source": [
        "**Note:** A tuple can contain any type (```str```, ```int```, ```float```, ```bool```, etc)"
      ]
    },
    {
      "cell_type": "markdown",
      "id": "3d4c5d31",
      "metadata": {
        "id": "3d4c5d31"
      },
      "source": [
        "**Note:** One can loop over the items of a tuple, the syntax is the same as for lists (see below)."
      ]
    },
    {
      "cell_type": "markdown",
      "id": "61f90882",
      "metadata": {
        "id": "61f90882"
      },
      "source": [
        "## <div id='lists'>7. Lists</div>\n",
        "\n",
        "Lists are used to store multiple items in a single variable.\n",
        "\n",
        "Lists are created using square brackets ```[]```.\n",
        "\n",
        "List items are **ordered** and **allow duplicate values**.\n",
        "\n",
        "List items are indexed. The first index is 0.\n",
        "\n",
        "Lists are mutable (this will be explained later on this notebook).\n",
        "\n",
        "**Examples:**"
      ]
    },
    {
      "cell_type": "code",
      "execution_count": null,
      "id": "12be4eb4",
      "metadata": {
        "id": "12be4eb4",
        "outputId": "06799fb9-8325-4acf-b83f-dd00c8314d3f"
      },
      "outputs": [
        {
          "name": "stdout",
          "output_type": "stream",
          "text": [
            "<class 'list'>\n",
            "<class 'list'>\n",
            "<class 'list'>\n"
          ]
        }
      ],
      "source": [
        "list_a = [1, 2, 3, 4]\n",
        "list_b = ['a', 'b', 'c', 'd', 'e']\n",
        "list_c = [1, 'a', 2.3]  # lists can be of any type (simultaneously!)\n",
        "\n",
        "# The above variables (list_x) are of type list (class list)\n",
        "print(type(list_a))\n",
        "print(type(list_b))\n",
        "print(type(list_c))"
      ]
    },
    {
      "cell_type": "markdown",
      "id": "c8fe6a37",
      "metadata": {
        "scrolled": true,
        "id": "c8fe6a37"
      },
      "source": [
        "### How to add a new element to a list?\n",
        "\n",
        "There are two ways\n",
        "\n",
        "1. Using the ```append()``` function:"
      ]
    },
    {
      "cell_type": "code",
      "execution_count": null,
      "id": "71c0b779",
      "metadata": {
        "id": "71c0b779",
        "outputId": "e507680d-7524-4da5-ad8e-a42a20a951f2"
      },
      "outputs": [
        {
          "name": "stdout",
          "output_type": "stream",
          "text": [
            "list1 = [0, 1, 2, 3, 4]\n"
          ]
        }
      ],
      "source": [
        "list1 = []  # this defines an empty list\n",
        "for i in range(5):\n",
        "    list1.append(i)  # adds i to the end of the list\n",
        "print(f'{list1 = }')"
      ]
    },
    {
      "cell_type": "markdown",
      "id": "a6d0355c",
      "metadata": {
        "id": "a6d0355c"
      },
      "source": [
        "2. Concatenating lists with ```+=```\n",
        "\n",
        "The above is equivalent to the following"
      ]
    },
    {
      "cell_type": "code",
      "execution_count": null,
      "id": "ba74006c",
      "metadata": {
        "id": "ba74006c",
        "outputId": "01e34d0e-4354-4df8-b222-89ea1ab83465"
      },
      "outputs": [
        {
          "name": "stdout",
          "output_type": "stream",
          "text": [
            "list2 = [0, 1, 2, 3, 4]\n"
          ]
        }
      ],
      "source": [
        "list2 = []  # this defines an empty list\n",
        "for i in range(5):\n",
        "    list2 += [i]  # concatenate lists\n",
        "print(f'{list2 = }')"
      ]
    },
    {
      "cell_type": "markdown",
      "id": "c7f7e17d",
      "metadata": {
        "id": "c7f7e17d"
      },
      "source": [
        "### How to know the size/length of a list (number of items)?\n",
        "\n",
        "Use the ```len()``` function.\n",
        "\n",
        "**Example:**"
      ]
    },
    {
      "cell_type": "code",
      "execution_count": null,
      "id": "46a54d16",
      "metadata": {
        "id": "46a54d16",
        "outputId": "d8256a3c-ae85-41ae-859d-35548c359678"
      },
      "outputs": [
        {
          "name": "stdout",
          "output_type": "stream",
          "text": [
            "size of list1 = 5\n"
          ]
        }
      ],
      "source": [
        "print(f'size of list1 = {len(list1)}')"
      ]
    },
    {
      "cell_type": "markdown",
      "id": "03d9abaa",
      "metadata": {
        "id": "03d9abaa"
      },
      "source": [
        "### Get content from a given index (reminder: indexing starts at zero!)"
      ]
    },
    {
      "cell_type": "code",
      "execution_count": null,
      "id": "a316ed0f",
      "metadata": {
        "id": "a316ed0f",
        "outputId": "6183e6c1-6a4f-452e-8663-5ca9ca105eb6"
      },
      "outputs": [
        {
          "name": "stdout",
          "output_type": "stream",
          "text": [
            "list_d = [1, 2, 4, 5]\n",
            "Content of list_d at index 0: 1\n",
            "Content of list_d at index 1: 2\n",
            "Final element of list_d: 5\n"
          ]
        }
      ],
      "source": [
        "list_d = [1, 2, 4, 5]\n",
        "print(f'{list_d = }')\n",
        "print(f'Content of list_d at index 0: {list_d[0]}')\n",
        "print(f'Content of list_d at index 1: {list_d[1]}')\n",
        "print(f'Final element of list_d: {list_d[-1]}')"
      ]
    },
    {
      "cell_type": "markdown",
      "id": "a587e069",
      "metadata": {
        "id": "a587e069"
      },
      "source": [
        "### How to remove an item at a given index from a list with ```pop()```?\n",
        "\n",
        "<u>Syntax:</u>\n",
        "```\n",
        "pop(index)\n",
        "```\n",
        "\n",
        "**Note:** ```pop()``` returns the removed item."
      ]
    },
    {
      "cell_type": "code",
      "execution_count": null,
      "id": "c6a6fd49",
      "metadata": {
        "id": "c6a6fd49",
        "outputId": "51d982ab-6d06-46a7-fccb-7673410a4121"
      },
      "outputs": [
        {
          "name": "stdout",
          "output_type": "stream",
          "text": [
            "my_list = [1, 2, 3, 4, 5]\n",
            "my_list after removing 2 = [1, 3, 4, 5]\n",
            "removed item: 2\n"
          ]
        }
      ],
      "source": [
        "my_list = [1,2,3,4,5]\n",
        "print(f'{my_list = }')\n",
        "\n",
        "# remove 2 (at index 1) from my_list\n",
        "removed_item = my_list.pop(1)\n",
        "\n",
        "print(f'my_list after removing 2 = {my_list}')\n",
        "print(f'removed item: {removed_item}')"
      ]
    },
    {
      "cell_type": "markdown",
      "id": "9f7697d0",
      "metadata": {
        "id": "9f7697d0"
      },
      "source": [
        "### Get a subset of a list\n",
        "\n",
        "Let's get the first two elements of ```list_d```"
      ]
    },
    {
      "cell_type": "code",
      "execution_count": null,
      "id": "6d5da87a",
      "metadata": {
        "id": "6d5da87a",
        "outputId": "396ae328-bb68-483a-f422-747d9f20ea86"
      },
      "outputs": [
        {
          "name": "stdout",
          "output_type": "stream",
          "text": [
            "[1, 2]\n"
          ]
        }
      ],
      "source": [
        "list_d_first_two = list_d[0:2]\n",
        "print(list_d_first_two)"
      ]
    },
    {
      "cell_type": "markdown",
      "id": "2bb24cbe",
      "metadata": {
        "id": "2bb24cbe"
      },
      "source": [
        "**Note:**\n",
        "1. ```list[x:y]``` will get you a new list with elements from ```x``` upto ```y-1```\n",
        "2. You can get all elements starting from a given index ```a``` with ```list[a:]```\n",
        "2. You can get all elements up to a given index ```a``` with ```list[:a+1]``` (the ```+1``` is needed since it retrieves values upto the index ```(a+1)-1```."
      ]
    },
    {
      "cell_type": "markdown",
      "id": "bf21834d",
      "metadata": {
        "id": "bf21834d"
      },
      "source": [
        "### Loop over items of a list"
      ]
    },
    {
      "cell_type": "code",
      "execution_count": null,
      "id": "2b10b776",
      "metadata": {
        "id": "2b10b776",
        "outputId": "a4fbf537-d6bf-4e41-eb6f-afd0c8517f78"
      },
      "outputs": [
        {
          "name": "stdout",
          "output_type": "stream",
          "text": [
            "list1 = [0, 1, 2, 3, 4]\n"
          ]
        }
      ],
      "source": [
        "print(f'{list1 = }')"
      ]
    },
    {
      "cell_type": "markdown",
      "id": "9e7f3e84",
      "metadata": {
        "id": "9e7f3e84"
      },
      "source": [
        "#### Rookie way:\n",
        "\n",
        "Loop over indexes and then get item for each index:"
      ]
    },
    {
      "cell_type": "code",
      "execution_count": null,
      "id": "5461752f",
      "metadata": {
        "id": "5461752f",
        "outputId": "991d137b-171f-4dc0-eb48-848f3fbfdefe"
      },
      "outputs": [
        {
          "name": "stdout",
          "output_type": "stream",
          "text": [
            "content for list1[0]: 0\n",
            "content for list1[1]: 1\n",
            "content for list1[2]: 2\n",
            "content for list1[3]: 3\n",
            "content for list1[4]: 4\n"
          ]
        }
      ],
      "source": [
        "for counter in range(len(list1)):\n",
        "    print(f'content for list1[{counter}]: {list1[counter]}')"
      ]
    },
    {
      "cell_type": "markdown",
      "id": "ce98de8f",
      "metadata": {
        "id": "ce98de8f"
      },
      "source": [
        "#### Expert way:\n",
        "\n",
        "Loop over items:"
      ]
    },
    {
      "cell_type": "code",
      "execution_count": null,
      "id": "c77ba3be",
      "metadata": {
        "id": "c77ba3be",
        "outputId": "7d191562-8a67-4e84-f218-68487e7b20ff"
      },
      "outputs": [
        {
          "name": "stdout",
          "output_type": "stream",
          "text": [
            "0\n",
            "1\n",
            "2\n",
            "3\n",
            "4\n"
          ]
        }
      ],
      "source": [
        "for item in list1: # item could be any name\n",
        "    print(item)"
      ]
    },
    {
      "cell_type": "markdown",
      "id": "c63e736b",
      "metadata": {
        "id": "c63e736b"
      },
      "source": [
        "#### if you want to also get the counter, use ```enumerate```\n",
        "\n",
        "The ```enumerate()``` method adds a counter to an iterable and returns the ```enumerate``` object.\n",
        "\n",
        "<u>Syntax:</u>\n",
        "```\n",
        "enumerate(iterable, start_index)\n",
        "```\n",
        "\n",
        "**Note:** start_index is zero by default.\n",
        "\n",
        "<u>Example:</u>\n",
        "\n",
        "```\n",
        "fruits = ['apple', 'orange', 'strawberry']\n",
        "my_enumerate = enumerate(fruits)\n",
        "\n",
        "print(list(my_enumerate))  # convert enumerate object to list\n",
        "# Output: [(0, 'apple'), (1, 'orange'), (2, 'strawberry')]\n",
        "\n",
        "print(type(my_enumerate))\n",
        "# output: <class 'enumerate'>\n",
        "\n",
        "enumerate_starting_at_10 = enumerate(fruits, 10)\n",
        "print(list(enumerate_starting_at_10))\n",
        "# Output: [(10, 'apple'), (11, 'orange'), (12, 'strawberry')]\n",
        "```\n",
        "\n",
        "Let's use ```enumerate``` to loop over ```list1``` items and print the value for each index:"
      ]
    },
    {
      "cell_type": "code",
      "execution_count": null,
      "id": "04a1c119",
      "metadata": {
        "id": "04a1c119",
        "outputId": "5cf5cd8d-b325-4773-d5a0-91716d189bd3"
      },
      "outputs": [
        {
          "name": "stdout",
          "output_type": "stream",
          "text": [
            "content for list1[0]: 0\n",
            "content for list1[1]: 1\n",
            "content for list1[2]: 2\n",
            "content for list1[3]: 3\n",
            "content for list1[4]: 4\n"
          ]
        }
      ],
      "source": [
        "for counter, item in enumerate(list1):\n",
        "    print(f'content for list1[{counter}]: {item}')"
      ]
    },
    {
      "cell_type": "markdown",
      "id": "ac9ffca0",
      "metadata": {
        "id": "ac9ffca0"
      },
      "source": [
        "#### I could also loop over a list in this way:"
      ]
    },
    {
      "cell_type": "code",
      "execution_count": null,
      "id": "9897430b",
      "metadata": {
        "id": "9897430b",
        "outputId": "0fb83bc6-33bb-4214-86ce-d51c973fdfc6"
      },
      "outputs": [
        {
          "name": "stdout",
          "output_type": "stream",
          "text": [
            "1\n",
            "2\n",
            "3\n",
            "4\n"
          ]
        }
      ],
      "source": [
        "for item in [1, 2, 3, 4]:\n",
        "    print(item)"
      ]
    },
    {
      "cell_type": "markdown",
      "id": "8cb289c1",
      "metadata": {
        "id": "8cb289c1"
      },
      "source": [
        "### Looping over two lists of the same length"
      ]
    },
    {
      "cell_type": "markdown",
      "id": "1bb966fe",
      "metadata": {
        "id": "1bb966fe"
      },
      "source": [
        "#### Bad example:"
      ]
    },
    {
      "cell_type": "code",
      "execution_count": null,
      "id": "e910a15c",
      "metadata": {
        "id": "e910a15c",
        "outputId": "7510ed29-1654-4fe6-a50e-dae2c6a5f796"
      },
      "outputs": [
        {
          "name": "stdout",
          "output_type": "stream",
          "text": [
            "value of a for item 0 = 1\n",
            "value of b for item 0 = 4\n",
            "value of a for item 1 = 2\n",
            "value of b for item 1 = 5\n",
            "value of a for item 2 = 3\n",
            "value of b for item 2 = 6\n"
          ]
        }
      ],
      "source": [
        "a = [1, 2, 3]\n",
        "b = [4, 5, 6]\n",
        "for i in range(len(a)):\n",
        "    print(f'value of a for item {i} = {a[i]}')\n",
        "    print(f'value of b for item {i} = {b[i]}')"
      ]
    },
    {
      "cell_type": "markdown",
      "id": "ecc23ab2",
      "metadata": {
        "id": "ecc23ab2"
      },
      "source": [
        "#### Good example: let's use ```zip()```\n",
        "\n",
        "The ```zip()``` method takes iterables, aggregates them in a tuple, and returns it\n",
        "\n",
        "<u>Example:</u>\n",
        "\n",
        "```\n",
        "fruits = ['apple', 'orange', 'strawberry']\n",
        "colors = ['green', 'orange', 'red']\n",
        "result = zip(fruits, colors)\n",
        "\n",
        "print(list(result))  # convert result (of type zip) to list\n",
        "# Output: [('apple', 'green'), ('orange', 'orange'), ('strawberry', 'red')]\n",
        "```"
      ]
    },
    {
      "cell_type": "code",
      "execution_count": null,
      "id": "7cb9611c",
      "metadata": {
        "id": "7cb9611c",
        "outputId": "64c6cb75-9c25-45ac-a495-20458f7cd4dc"
      },
      "outputs": [
        {
          "name": "stdout",
          "output_type": "stream",
          "text": [
            "av = 1\n",
            "bv = 4\n",
            "av = 2\n",
            "bv = 5\n",
            "av = 3\n",
            "bv = 6\n"
          ]
        }
      ],
      "source": [
        "for av, bv in zip(a, b):\n",
        "    print(f'{av = }')\n",
        "    print(f'{bv = }')"
      ]
    },
    {
      "cell_type": "markdown",
      "id": "90790fd1",
      "metadata": {
        "id": "90790fd1"
      },
      "source": [
        "#### If you still want to know the iterator use ```enumerate``` and ```zip```:\n",
        "\n",
        "Lets' use ```enumerate(zip())``` to print each value of ```a``` and ```b``` for each index:"
      ]
    },
    {
      "cell_type": "code",
      "execution_count": null,
      "id": "58298cfb",
      "metadata": {
        "id": "58298cfb",
        "outputId": "8f1dcb1e-6557-494e-c24f-d463a4066b26"
      },
      "outputs": [
        {
          "name": "stdout",
          "output_type": "stream",
          "text": [
            "value of a for item 0 = 1\n",
            "value of b for item 0 = 4\n",
            "value of a for item 1 = 2\n",
            "value of b for item 1 = 5\n",
            "value of a for item 2 = 3\n",
            "value of b for item 2 = 6\n"
          ]
        }
      ],
      "source": [
        "for i, (av, bv) in enumerate(zip(a, b)):\n",
        "    print(f'value of a for item {i} = {av}')\n",
        "    print(f'value of b for item {i} = {bv}')"
      ]
    },
    {
      "cell_type": "markdown",
      "id": "eee1576e",
      "metadata": {
        "id": "eee1576e"
      },
      "source": [
        "### How to make a list out of stripping out a string?\n",
        "\n",
        "We can use the ```split(separator, maxsplit)``` function to break up a string at the specified separator and obtain a list of strings. By default, the separator is a whitespace which, for example, can be used to extract the list of words in a sentence. We can also specify how many splits to do with the ```maxsplit``` argument. If it is not provided, not limit is set. For example, if we set ```maxsplit``` to ```1```, then the function will return a list with 2 elements. Let's see a few examples:"
      ]
    },
    {
      "cell_type": "code",
      "execution_count": null,
      "id": "39d7b9b3",
      "metadata": {
        "id": "39d7b9b3",
        "outputId": "91e1a38b-8aa4-44cd-d434-75b3414d331d"
      },
      "outputs": [
        {
          "name": "stdout",
          "output_type": "stream",
          "text": [
            "['An', 'apple', 'a', 'day', 'keeps', 'the', 'doctor', 'away']\n"
          ]
        }
      ],
      "source": [
        "string = 'An apple a day keeps the doctor away'\n",
        "\n",
        "words_in_string = string.split(' ')  # here the separator is a space\n",
        "print(words_in_string)"
      ]
    },
    {
      "cell_type": "code",
      "execution_count": null,
      "id": "25cd0fd8",
      "metadata": {
        "id": "25cd0fd8",
        "outputId": "b9735ad8-b412-420b-df52-dc32445b89bf"
      },
      "outputs": [
        {
          "name": "stdout",
          "output_type": "stream",
          "text": [
            "['car', 'bus', 'tram', 'taxi']\n"
          ]
        }
      ],
      "source": [
        "means_of_transport = 'car,bus,tram,taxi'\n",
        "means_of_transport_list = means_of_transport.split(',')  # here the separator is a comma\n",
        "print(means_of_transport_list)"
      ]
    },
    {
      "cell_type": "markdown",
      "id": "cac17eca",
      "metadata": {
        "id": "cac17eca"
      },
      "source": [
        "### The ```any()``` and ```all()``` functions"
      ]
    },
    {
      "cell_type": "markdown",
      "id": "22cac2f1",
      "metadata": {
        "id": "22cac2f1"
      },
      "source": [
        "The ```any()``` and ```all()``` functions evaluate the items in a list or tuple to see which are ```True```.\n",
        "\n",
        "The ```any()``` method returns ```True``` if any of the items are true (if not, it returns ```False```), and the ```all()``` function returns ```True``` if all the items are ```True``` (if not, it returns ```False```)."
      ]
    },
    {
      "cell_type": "markdown",
      "id": "d89ec492",
      "metadata": {
        "id": "d89ec492"
      },
      "source": [
        "### List comprehension (faster than the above!)"
      ]
    },
    {
      "cell_type": "code",
      "execution_count": null,
      "id": "7015d11f",
      "metadata": {
        "id": "7015d11f",
        "outputId": "3844b2ac-77b9-4c83-e851-204c2856ff2b"
      },
      "outputs": [
        {
          "name": "stdout",
          "output_type": "stream",
          "text": [
            "new_list_1 = [0, 1, 2, 3, 4]\n",
            "new_list_2 = [1, 2, 3, 4]\n"
          ]
        }
      ],
      "source": [
        "new_list_1 = [i for i in range(5)]  # range starts at zero and stopts at 5-1\n",
        "new_list_2 = [i for i in range(1, 5)]  # here range starts at 1 and stops also at 5-1\n",
        "print(f'{new_list_1 = }')\n",
        "print(f'{new_list_2 = }')"
      ]
    },
    {
      "cell_type": "markdown",
      "id": "649d888f",
      "metadata": {
        "id": "649d888f"
      },
      "source": [
        "#### List comprehension including a condition"
      ]
    },
    {
      "cell_type": "markdown",
      "id": "ff89c106",
      "metadata": {
        "id": "ff89c106"
      },
      "source": [
        "<u>Example 1:</u>"
      ]
    },
    {
      "cell_type": "code",
      "execution_count": null,
      "id": "f6331c05",
      "metadata": {
        "id": "f6331c05",
        "outputId": "f1df0479-9d07-4c57-bda3-9725bef607a0"
      },
      "outputs": [
        {
          "name": "stdout",
          "output_type": "stream",
          "text": [
            "my_list = [0, 2, 4, 6, 8, 10, 12, 14, 16, 18]\n"
          ]
        }
      ],
      "source": [
        "my_list = [i for i in range(20) if i % 2 == 0]  # only even numbers\n",
        "print(f'{my_list = }')"
      ]
    },
    {
      "cell_type": "markdown",
      "id": "2e66f3a0",
      "metadata": {
        "id": "2e66f3a0"
      },
      "source": [
        "<u>Example 2:</u>"
      ]
    },
    {
      "cell_type": "code",
      "execution_count": null,
      "id": "c74dd388",
      "metadata": {
        "id": "c74dd388",
        "outputId": "e3d760e6-804d-4809-dad7-912706099f7c"
      },
      "outputs": [
        {
          "name": "stdout",
          "output_type": "stream",
          "text": [
            "my_list_bool = [True, False, True, False, True, False, True, False, True, False]\n"
          ]
        }
      ],
      "source": [
        "my_list_bool = [True if i % 2 == 0 else False for i in range(10)]  # put True/False depending if even or odd\n",
        "print(f'{my_list_bool = }')"
      ]
    },
    {
      "cell_type": "markdown",
      "id": "b7f35c41",
      "metadata": {
        "id": "b7f35c41"
      },
      "source": [
        "<u>Example 3:</u> If a list is too large, too much memory might be needed\n",
        "\n",
        "In that case, a ```generator``` can be used\n",
        "\n",
        "A ```generator``` allows you to declare a function that behaves like an iterator (i.e. it can be used in a for loop)\n",
        "\n",
        "Create a list (```my_list```) and sum over all values, then also check size of ```my_list```"
      ]
    },
    {
      "cell_type": "code",
      "execution_count": null,
      "id": "9e56832f",
      "metadata": {
        "id": "9e56832f",
        "outputId": "c51ef1cf-9dcb-4ee0-993c-1c8b06bf5fdc"
      },
      "outputs": [
        {
          "name": "stdout",
          "output_type": "stream",
          "text": [
            "sum(my_list) = 499999500000\n",
            "sys.getsizeof(my_list) = 8448728 bytes\n"
          ]
        }
      ],
      "source": [
        "my_list = [i for i in range(1000000)]  # create a list using comprehension\n",
        "print(f'{sum(my_list) = }')  # sum all values from my_list\n",
        "import sys  # will see more about import later (see below)\n",
        "print(f'{sys.getsizeof(my_list) = }', 'bytes')  # print size of my_list"
      ]
    },
    {
      "cell_type": "markdown",
      "id": "13c8486b",
      "metadata": {
        "id": "13c8486b"
      },
      "source": [
        "Let's now use a ```generator``` to get same sum and check size of such a ```generator``` (it's considerably smaller than ```my_list```!)"
      ]
    },
    {
      "cell_type": "code",
      "execution_count": null,
      "id": "19be37e7",
      "metadata": {
        "id": "19be37e7",
        "outputId": "ffe5ca77-664d-4a37-8284-2ae5062d882e"
      },
      "outputs": [
        {
          "name": "stdout",
          "output_type": "stream",
          "text": [
            "sum(my_gen) = 499999500000\n",
            "sys.getsizeof(my_gen) = 200 bytes\n"
          ]
        }
      ],
      "source": [
        "my_gen = (i for i in range(1000000))  # NOTE: I used () instead of []\n",
        "print(f'{sum(my_gen) = }')  # sum all values\n",
        "print(f'{sys.getsizeof(my_gen) = }', 'bytes') # print size of my_gen (considerably smaller than my_list!)"
      ]
    },
    {
      "cell_type": "markdown",
      "id": "e6723224",
      "metadata": {
        "id": "e6723224"
      },
      "source": [
        "**Note 1:** the performance improvement from the use of generators is the result of the lazy (on demand) generation of values,\n",
        "which translates to lower memory usage\n",
        "\n",
        "**Note 2:** I could use ```my_get``` to create a ```list``` equivalent to ```my_list```:\n",
        "\n",
        "```\n",
        "my_new_list = list(my_gen)\n",
        "```"
      ]
    },
    {
      "cell_type": "markdown",
      "id": "8b58ded7",
      "metadata": {
        "id": "8b58ded7"
      },
      "source": [
        "A generator can also be created using a function using ```yield``` instead of ```return```. Example:"
      ]
    },
    {
      "cell_type": "code",
      "execution_count": null,
      "id": "8fa29c3e",
      "metadata": {
        "id": "8fa29c3e"
      },
      "outputs": [],
      "source": [
        "def my_generator():\n",
        "    for i in range(1000000):\n",
        "        yield i\n",
        "\n",
        "my_equiv_gen = my_generator()"
      ]
    },
    {
      "cell_type": "markdown",
      "id": "e6a9b2b2",
      "metadata": {
        "id": "e6a9b2b2"
      },
      "source": [
        "Note: ```my_equiv_gen``` is equivalent to ```my_gen```"
      ]
    },
    {
      "cell_type": "markdown",
      "id": "2ebf093c",
      "metadata": {
        "id": "2ebf093c"
      },
      "source": [
        "### Add element at a given place of a list"
      ]
    },
    {
      "cell_type": "code",
      "execution_count": null,
      "id": "f3ec3c5d",
      "metadata": {
        "id": "f3ec3c5d"
      },
      "outputs": [],
      "source": [
        "list_d = [1, 2, 4, 5]"
      ]
    },
    {
      "cell_type": "markdown",
      "id": "f966f229",
      "metadata": {
        "id": "f966f229"
      },
      "source": [
        "Add 3 to ```list_d``` list at index 2 and print ```list_d``` (remember that indexing starts at zero)"
      ]
    },
    {
      "cell_type": "code",
      "execution_count": null,
      "id": "357656a0",
      "metadata": {
        "id": "357656a0",
        "outputId": "8de81b79-9448-42e3-8b38-b3b2ae03b808"
      },
      "outputs": [
        {
          "name": "stdout",
          "output_type": "stream",
          "text": [
            "list_d = [1, 2, 3, 4, 5]\n"
          ]
        }
      ],
      "source": [
        "list_d.insert(2, 3)  # inserts 3 to index 2\n",
        "print(f'{list_d = }')"
      ]
    },
    {
      "cell_type": "markdown",
      "id": "ab8115ce",
      "metadata": {
        "id": "ab8115ce"
      },
      "source": [
        "### Check if an element is in a list"
      ]
    },
    {
      "cell_type": "code",
      "execution_count": null,
      "id": "a4f8ace8",
      "metadata": {
        "id": "a4f8ace8",
        "outputId": "b13ef4cd-a998-485e-c20e-fab1092c790a"
      },
      "outputs": [
        {
          "name": "stdout",
          "output_type": "stream",
          "text": [
            "new_list_1 = [0, 1, 2, 3, 4]\n",
            "0 is in new_list_1\n",
            "new_list_2 = [1, 2, 3, 4]\n",
            "1 is in new_list_2\n"
          ]
        }
      ],
      "source": [
        "print(f'{new_list_1 = }')\n",
        "if 0 in new_list_1:\n",
        "    print('0 is in new_list_1')\n",
        "else:\n",
        "    print('0 is not in new_list_1')\n",
        "\n",
        "print(f'{new_list_2 = }')\n",
        "if 1 in new_list_2:\n",
        "    print('1 is in new_list_2')\n",
        "else:\n",
        "    print('1 is not in new_list_2')"
      ]
    },
    {
      "cell_type": "markdown",
      "id": "5ae357f1",
      "metadata": {
        "id": "5ae357f1"
      },
      "source": [
        "### Remove item from a list"
      ]
    },
    {
      "cell_type": "code",
      "execution_count": null,
      "id": "6faf5ddf",
      "metadata": {
        "id": "6faf5ddf",
        "outputId": "4d1b2635-9eff-4359-c740-14b38b2cbe08"
      },
      "outputs": [
        {
          "name": "stdout",
          "output_type": "stream",
          "text": [
            "fuits after removing \"pineapple\" : ['apple', 'banana']\n"
          ]
        }
      ],
      "source": [
        "fruits = ['apple', 'pineapple', 'banana']\n",
        "fruits.remove('pineapple')\n",
        "print(f'fuits after removing \"pineapple\" : {fruits}')"
      ]
    },
    {
      "cell_type": "markdown",
      "id": "8d826307",
      "metadata": {
        "id": "8d826307"
      },
      "source": [
        "### Join lists into a string using ```join```"
      ]
    },
    {
      "cell_type": "code",
      "execution_count": null,
      "id": "6536997a",
      "metadata": {
        "id": "6536997a",
        "outputId": "308e67e6-e281-436d-a2d8-daa3ec04afb8"
      },
      "outputs": [
        {
          "name": "stdout",
          "output_type": "stream",
          "text": [
            "joined_string = 'a+b+c+d'\n"
          ]
        }
      ],
      "source": [
        "strings = ['a', 'b', 'c', 'd']\n",
        "joined_string = '+'.join(strings)  # a single string will be constructed adding '+' b/w each item from strings\n",
        "print(f'{joined_string = }')"
      ]
    },
    {
      "cell_type": "markdown",
      "id": "4b820397",
      "metadata": {
        "id": "4b820397"
      },
      "source": [
        "### Sort list of numbers using ```sorted```"
      ]
    },
    {
      "cell_type": "code",
      "execution_count": null,
      "id": "0ffa5eed",
      "metadata": {
        "id": "0ffa5eed",
        "outputId": "41d153ee-171f-41f3-f8d2-e5f114726e66"
      },
      "outputs": [
        {
          "name": "stdout",
          "output_type": "stream",
          "text": [
            "Unsorted list = [1, 3, 7, 2, 5, 10, 9, 12]\n",
            "Sorted list   = [1, 2, 3, 5, 7, 9, 10, 12]\n"
          ]
        }
      ],
      "source": [
        "numbers = [1, 3, 7, 2, 5, 10, 9, 12]\n",
        "numbers_sorted = sorted(numbers)  # use sorted(numbers, reverse=True) if descending order is desired\n",
        "print(f'Unsorted list = {numbers}')\n",
        "print(f'Sorted list   = {numbers_sorted}')"
      ]
    },
    {
      "cell_type": "markdown",
      "id": "cbf023ad",
      "metadata": {
        "id": "cbf023ad"
      },
      "source": [
        "## <div id='sets'>8. Sets</div>"
      ]
    },
    {
      "cell_type": "markdown",
      "id": "7ba92b0e",
      "metadata": {
        "id": "7ba92b0e"
      },
      "source": [
        "A ```set``` is an **unordered** collection with **no duplicate elements**.\n",
        "\n",
        "### Example 1: use ```set()``` to obtain a collection of unique characters from a string"
      ]
    },
    {
      "cell_type": "code",
      "execution_count": null,
      "id": "fe7b4062",
      "metadata": {
        "id": "fe7b4062",
        "outputId": "db9da450-e29e-4024-f411-d720215d05ad"
      },
      "outputs": [
        {
          "name": "stdout",
          "output_type": "stream",
          "text": [
            "{'e', 'y', 'p', 'l', 't', 'm', 'x', 'a'}\n",
            "type(my_set) = <class 'set'>\n"
          ]
        }
      ],
      "source": [
        "a = 'myexampletext'\n",
        "my_set = set(a)  # will remove duplicates\n",
        "print(my_set)\n",
        "print(f'{type(my_set) = }')"
      ]
    },
    {
      "cell_type": "markdown",
      "id": "fdb5bdf1",
      "metadata": {
        "id": "fdb5bdf1"
      },
      "source": [
        "### Example 3: create a set without using ```set()``` but ```{}``` instead"
      ]
    },
    {
      "cell_type": "code",
      "execution_count": null,
      "id": "7799d528",
      "metadata": {
        "id": "7799d528",
        "outputId": "f40356ab-6cc1-44a8-a70e-aba3e1b66f2d"
      },
      "outputs": [
        {
          "name": "stdout",
          "output_type": "stream",
          "text": [
            "my_set = {'stawberry', 'apple', 'orange'}\n"
          ]
        }
      ],
      "source": [
        "my_set = {'stawberry', 'apple', 'orange'}\n",
        "print(f'{my_set = }')"
      ]
    },
    {
      "cell_type": "markdown",
      "id": "28a52ba7",
      "metadata": {
        "id": "28a52ba7"
      },
      "source": [
        "### Example 2: use ```set()``` to remove duplicates from a list"
      ]
    },
    {
      "cell_type": "code",
      "execution_count": null,
      "id": "854f3ef6",
      "metadata": {
        "id": "854f3ef6",
        "outputId": "ea44fb94-f2d0-49b3-9e82-6e35297c7ded"
      },
      "outputs": [
        {
          "name": "stdout",
          "output_type": "stream",
          "text": [
            "my_list                    = [0, 1, 6, 2, 1, 0, 2, 3, 4, 5, 6, 1]\n",
            "my_list_without_duplicates = [0, 1, 2, 3, 4, 5, 6]\n"
          ]
        }
      ],
      "source": [
        "my_list = [0, 1, 6, 2, 1, 0, 2, 3, 4, 5, 6, 1]\n",
        "my_list_without_duplicates = list(set(my_list))  # create a new list from the set\n",
        "print(f'{my_list                    = }')\n",
        "print(f'{my_list_without_duplicates = }')"
      ]
    },
    {
      "cell_type": "markdown",
      "id": "ca626ae8",
      "metadata": {
        "id": "ca626ae8"
      },
      "source": [
        "## <div id='dicts'>9. Dictionaries</div>"
      ]
    },
    {
      "cell_type": "markdown",
      "id": "03f3387e",
      "metadata": {
        "id": "03f3387e"
      },
      "source": [
        "Dictionaries are used to store data values in ```key: value``` pairs.\n",
        "\n",
        "A dictionary is a collection which is ordered (since Python3.7), changeable and **do not allow duplicated keys**.\n",
        "\n",
        "Dictionaries are written with curly brackets ```{}```.\n",
        "\n",
        "**Example:**"
      ]
    },
    {
      "cell_type": "code",
      "execution_count": null,
      "id": "c98ec054",
      "metadata": {
        "id": "c98ec054",
        "outputId": "35cb8262-929b-484f-a599-8e96fb1b7691"
      },
      "outputs": [
        {
          "name": "stdout",
          "output_type": "stream",
          "text": [
            "{'Manuel': 12, 'Miguel': 45, 'Andrea': 33}\n",
            "type(my_dict) = <class 'dict'>\n"
          ]
        }
      ],
      "source": [
        "my_dict = {  # name: age\n",
        "    'Manuel': 12,\n",
        "    'Miguel': 45,\n",
        "    'Andrea': 33,\n",
        "}\n",
        "print(my_dict)\n",
        "print(f'{type(my_dict) = }')"
      ]
    },
    {
      "cell_type": "markdown",
      "id": "6fe985e5",
      "metadata": {
        "id": "6fe985e5"
      },
      "source": [
        "**Note:** the value specified for a key could be an int as in the example or a float, string, boolean, list or even another dictionary, etc\n",
        "\n",
        "A dictionary can also be constructed using the ```dict()``` function. For the example above, it would look like the following:"
      ]
    },
    {
      "cell_type": "code",
      "execution_count": null,
      "id": "e79a6653",
      "metadata": {
        "id": "e79a6653",
        "outputId": "49f99747-a129-4bd7-8cd8-a827f3e5b9b8"
      },
      "outputs": [
        {
          "name": "stdout",
          "output_type": "stream",
          "text": [
            "{'Manuel': 12, 'Miguel': 45, 'Andrea': 33}\n"
          ]
        }
      ],
      "source": [
        "my_dict = dict(\n",
        "    Manuel = 12,\n",
        "    Miguel = 45,\n",
        "    Andrea = 33\n",
        ")\n",
        "print(my_dict)"
      ]
    },
    {
      "cell_type": "markdown",
      "id": "172eb002",
      "metadata": {
        "id": "172eb002"
      },
      "source": [
        "### How to define empty dictionary? (```dict_name = {}```)"
      ]
    },
    {
      "cell_type": "code",
      "execution_count": null,
      "id": "ab2e3a47",
      "metadata": {
        "scrolled": true,
        "id": "ab2e3a47",
        "outputId": "d49a7947-e033-45ca-a863-fdb2f307f7af"
      },
      "outputs": [
        {
          "name": "stdout",
          "output_type": "stream",
          "text": [
            "my_other_dict = {}\n"
          ]
        }
      ],
      "source": [
        "my_other_dict = {}\n",
        "print(f'{my_other_dict = }')"
      ]
    },
    {
      "cell_type": "markdown",
      "id": "18583811",
      "metadata": {
        "id": "18583811"
      },
      "source": [
        "### How to fill a dictionary? (```dict_name[key_name] = value```)"
      ]
    },
    {
      "cell_type": "code",
      "execution_count": null,
      "id": "9679ee84",
      "metadata": {
        "id": "9679ee84",
        "outputId": "22f66b5d-e67c-4f69-d257-62f74da6cc21"
      },
      "outputs": [
        {
          "name": "stdout",
          "output_type": "stream",
          "text": [
            "my_other_dict = {'Ana': 25}\n"
          ]
        }
      ],
      "source": [
        "my_other_dict['Ana'] = 25  # here the key is \"Ana\" and its value is 25\n",
        "print(f'{my_other_dict = }')"
      ]
    },
    {
      "cell_type": "markdown",
      "id": "150a6143",
      "metadata": {
        "id": "150a6143"
      },
      "source": [
        "### How to loop over the keys of a dictionary?"
      ]
    },
    {
      "cell_type": "code",
      "execution_count": null,
      "id": "2015f861",
      "metadata": {
        "id": "2015f861",
        "outputId": "ee753a5d-f4d9-4294-c620-1c0c235f5410"
      },
      "outputs": [
        {
          "name": "stdout",
          "output_type": "stream",
          "text": [
            "key = 'Manuel'\n",
            "key = 'Miguel'\n",
            "key = 'Andrea'\n"
          ]
        }
      ],
      "source": [
        "for key in my_dict:  # my_dict was defined above\n",
        "    print(f'{key = }')"
      ]
    },
    {
      "cell_type": "markdown",
      "id": "f97f7711",
      "metadata": {
        "id": "f97f7711"
      },
      "source": [
        "### How to loop over keys and values?"
      ]
    },
    {
      "cell_type": "code",
      "execution_count": null,
      "id": "236c328e",
      "metadata": {
        "id": "236c328e",
        "outputId": "d5ad40d2-5f84-473e-9092-3a9bf1803116"
      },
      "outputs": [
        {
          "name": "stdout",
          "output_type": "stream",
          "text": [
            "value for key=Manuel: 12\n",
            "value for key=Miguel: 45\n",
            "value for key=Andrea: 33\n"
          ]
        }
      ],
      "source": [
        "for key, value in my_dict.items():\n",
        "    print(f'value for key={key}: {value}')"
      ]
    },
    {
      "cell_type": "markdown",
      "id": "53e7eb41",
      "metadata": {
        "id": "53e7eb41"
      },
      "source": [
        "### How to check if a key exists and if it does, print value? (example: ```if key_name in dict_name:```)"
      ]
    },
    {
      "cell_type": "code",
      "execution_count": null,
      "id": "de8896e0",
      "metadata": {
        "id": "de8896e0",
        "outputId": "58ba4cbf-950d-45c0-c044-df6519a550dd"
      },
      "outputs": [
        {
          "name": "stdout",
          "output_type": "stream",
          "text": [
            "value for key=Miguel: 45\n",
            "Julieta is not in my_dict\n"
          ]
        }
      ],
      "source": [
        "if 'Miguel' in my_dict:\n",
        "    print(f'value for key=Miguel: {my_dict[\"Miguel\"]}')\n",
        "if 'Julieta' in my_dict:\n",
        "    print(f'value for key=Julieta: {my_dict[\"Julieta\"]}')\n",
        "else:\n",
        "    print('Julieta is not in my_dict')"
      ]
    },
    {
      "cell_type": "markdown",
      "id": "a971b291",
      "metadata": {
        "id": "a971b291"
      },
      "source": [
        "### The ```get()``` function.\n",
        "\n",
        "We can retrieve the value associated to a key and get a default value when the key is missing with the ```get(key, value)``` function. The ```value``` parameter is optional and can be used to set a default value when ```key``` does not exist in the dictionary. Example:"
      ]
    },
    {
      "cell_type": "code",
      "execution_count": null,
      "id": "800b7fc6",
      "metadata": {
        "id": "800b7fc6",
        "outputId": "f43ed18c-b6d1-4bce-e00d-930ce7c8a90b"
      },
      "outputs": [
        {
          "name": "stdout",
          "output_type": "stream",
          "text": [
            "-1\n"
          ]
        }
      ],
      "source": [
        "print(my_dict.get('John', -1))"
      ]
    },
    {
      "cell_type": "markdown",
      "id": "43eec0bc",
      "metadata": {
        "id": "43eec0bc"
      },
      "source": [
        "### How doe the ```any()``` and ```all()``` functions work on dictionaries?\n",
        "\n",
        "The ```any()``` function returns ```True``` if any value is ```True``` (i.e there is a key with a ```True``` value assigned).\n",
        "\n",
        "The ```all()``` function returns ```True``` if are no blank (empty string), zero or ```False``` values in the dictionary."
      ]
    },
    {
      "cell_type": "markdown",
      "id": "a0033b14",
      "metadata": {
        "id": "a0033b14"
      },
      "source": [
        "### Dict comprehension"
      ]
    },
    {
      "cell_type": "code",
      "execution_count": null,
      "id": "9313fcff",
      "metadata": {
        "id": "9313fcff",
        "outputId": "2ae62b40-295b-43e4-d725-5da137492c2b"
      },
      "outputs": [
        {
          "name": "stdout",
          "output_type": "stream",
          "text": [
            "create_dict_fast = {'Miguel': 32, 'Lucas': 25, 'Ricardo': 46, 'Maria': 56, 'Lucia': 33}\n"
          ]
        }
      ],
      "source": [
        "names = ['Miguel', 'Lucas', 'Ricardo', 'Maria', 'Lucia']\n",
        "ages  = [32, 25, 46, 56, 33]\n",
        "create_dict_fast = {name: age for name, age in zip(names, ages)}\n",
        "print(f'{create_dict_fast = }')\n",
        "# print(list(zip(names, ages)))"
      ]
    },
    {
      "cell_type": "markdown",
      "id": "05c16cb7",
      "metadata": {
        "id": "05c16cb7"
      },
      "source": [
        "### Get all values from a dict"
      ]
    },
    {
      "cell_type": "code",
      "execution_count": null,
      "id": "e3cb25a2",
      "metadata": {
        "id": "e3cb25a2",
        "outputId": "e203d2ee-ab0e-4626-8152-ef75db528f62"
      },
      "outputs": [
        {
          "name": "stdout",
          "output_type": "stream",
          "text": [
            "dictionary.values() = dict_values([1, 2, 4])\n"
          ]
        }
      ],
      "source": [
        "dictionary = {'a': 1, 'b': 2, 'c': 4}\n",
        "print(f'{dictionary.values() = }')"
      ]
    },
    {
      "cell_type": "markdown",
      "id": "1514a22c",
      "metadata": {
        "id": "1514a22c"
      },
      "source": [
        "### Get all keys from a dict"
      ]
    },
    {
      "cell_type": "code",
      "execution_count": null,
      "id": "efe739cc",
      "metadata": {
        "id": "efe739cc",
        "outputId": "673220ef-4a41-4125-a95d-2293181dd530"
      },
      "outputs": [
        {
          "name": "stdout",
          "output_type": "stream",
          "text": [
            "dictionary.keys() = dict_keys(['a', 'b', 'c'])\n"
          ]
        }
      ],
      "source": [
        "# Get all keys from a dict\n",
        "print(f'{dictionary.keys() = }')"
      ]
    },
    {
      "cell_type": "markdown",
      "id": "704d7b7b",
      "metadata": {
        "id": "704d7b7b"
      },
      "source": [
        "### Merge dictionaries (Python 3.5+)"
      ]
    },
    {
      "cell_type": "code",
      "execution_count": null,
      "id": "58478639",
      "metadata": {
        "id": "58478639",
        "outputId": "f23eb7c2-d6a5-4cd7-fa6b-226c54c76ab8"
      },
      "outputs": [
        {
          "name": "stdout",
          "output_type": "stream",
          "text": [
            "merged_dict = {'Name': 'Mathias', 'Age': 22, 'E-mail': 'email@example.com'}\n"
          ]
        }
      ],
      "source": [
        "dict_a = {'Name': 'Mathias', 'Age': 22}\n",
        "dict_b = {'Name': 'Mathias', 'E-mail': 'email@example.com'}\n",
        "merged_dict = {**dict_a, **dict_b}\n",
        "print(f'{merged_dict = }')"
      ]
    },
    {
      "cell_type": "markdown",
      "id": "390f577c",
      "metadata": {
        "id": "390f577c"
      },
      "source": [
        "**Note:** The same can be acchieved with the following on Python 3.9+:"
      ]
    },
    {
      "cell_type": "code",
      "execution_count": null,
      "id": "53651f4f",
      "metadata": {
        "id": "53651f4f",
        "outputId": "acc59836-9b41-418d-bfb4-5d3c139f03ea"
      },
      "outputs": [
        {
          "name": "stdout",
          "output_type": "stream",
          "text": [
            "merged_dict = {'Name': 'Mathias', 'Age': 22, 'E-mail': 'email@example.com'}\n"
          ]
        }
      ],
      "source": [
        "merged_dict = dict_a | dict_b\n",
        "print(f'{merged_dict = }')"
      ]
    },
    {
      "cell_type": "markdown",
      "id": "c8007063",
      "metadata": {
        "id": "c8007063"
      },
      "source": [
        "**Important:** If there is a key which is both dictionaries, but its value on each dict is different, then the value from ```dict_b``` will be used (the order on ```{**dict_a, **dict_b}``` (```dict_a | dict_b```) is important!)."
      ]
    },
    {
      "cell_type": "markdown",
      "id": "96163099",
      "metadata": {
        "id": "96163099"
      },
      "source": [
        "### How to sort a dictionary based on keys\n",
        "\n",
        "For this, I will rely on the ```sorted()``` function and a lambda function. Lambda functions will be introduced in the next notebook."
      ]
    },
    {
      "cell_type": "code",
      "execution_count": null,
      "id": "9425aede",
      "metadata": {
        "id": "9425aede",
        "outputId": "aed1c9f0-6102-449b-d8cd-84692c3c2c73"
      },
      "outputs": [
        {
          "name": "stdout",
          "output_type": "stream",
          "text": [
            "create_dict_fast = {'Miguel': 32, 'Lucas': 25, 'Ricardo': 46, 'Maria': 56, 'Lucia': 33}\n",
            "sorted_by_keys_asc = {'Lucas': 25, 'Lucia': 33, 'Maria': 56, 'Miguel': 32, 'Ricardo': 46}\n"
          ]
        }
      ],
      "source": [
        "print(f'{create_dict_fast = }')\n",
        "sorted_by_keys_asc = dict(sorted(create_dict_fast.items(), key=lambda item: item[0], reverse=False))  # user reverse=True for descending order\n",
        "print(f'{sorted_by_keys_asc = }')"
      ]
    },
    {
      "cell_type": "markdown",
      "id": "ef551ebd",
      "metadata": {
        "id": "ef551ebd"
      },
      "source": [
        "### How to sort a dictionary based on values\n",
        "\n",
        "For this, I will rely on the ```sorted()``` function and a lambda function. Lambda functions will be introduced in the next notebook."
      ]
    },
    {
      "cell_type": "code",
      "execution_count": null,
      "id": "adf3439c",
      "metadata": {
        "id": "adf3439c",
        "outputId": "0599a3c8-8582-4e3d-ec51-57df161364bb"
      },
      "outputs": [
        {
          "name": "stdout",
          "output_type": "stream",
          "text": [
            "create_dict_fast = {'Miguel': 32, 'Lucas': 25, 'Ricardo': 46, 'Maria': 56, 'Lucia': 33}\n",
            "sorted_by_values_asc = {'Lucas': 25, 'Miguel': 32, 'Lucia': 33, 'Ricardo': 46, 'Maria': 56}\n"
          ]
        }
      ],
      "source": [
        "print(f'{create_dict_fast = }')\n",
        "sorted_by_values_asc = dict(sorted(create_dict_fast.items(), key=lambda item: item[1], reverse=False))  # user reverse=True for descending order\n",
        "print(f'{sorted_by_values_asc = }')"
      ]
    },
    {
      "cell_type": "markdown",
      "id": "912795d6",
      "metadata": {
        "id": "912795d6"
      },
      "source": [
        "## <div id='mutables-vs-immutables'>10. Mutables vs immutables</div>\n",
        "\n",
        "Everything in Python is an object.\n",
        "\n",
        "Objects in Python can be either <u>mutable</u> or <u>immutable</u>.\n",
        "\n",
        "Every variable holds an object instance.\n",
        "\n",
        "When an object is initiated, it is assigned a unique <u>object id</u> (or identity).\n",
        "\n",
        "Its type is defined at runtime and once set can never change, **however its state can be changed if it is mutable**\n",
        "\n",
        "i.e., a mutable object can be changed after it is created, and an immutable object can't.\n",
        "\n",
        "The built-in function ```id()``` returns the identity of an object as an integer.\n",
        "\n",
        "This integer usually corresponds to the object’s location in memory."
      ]
    },
    {
      "cell_type": "code",
      "execution_count": null,
      "id": "d219b8c9",
      "metadata": {
        "id": "d219b8c9",
        "outputId": "b39d3107-6e12-4bc2-d991-c967543b2631"
      },
      "outputs": [
        {
          "name": "stdout",
          "output_type": "stream",
          "text": [
            "my_variable       = 'My text'\n",
            "type(my_variable) = <class 'str'>\n",
            "id(my_variable)   = 3109458274288\n"
          ]
        }
      ],
      "source": [
        "my_variable = 'My text'\n",
        "print(f'{my_variable       = }')\n",
        "print(f'{type(my_variable) = }')  # type of m_variable\n",
        "print(f'{id(my_variable)   = }')  # unique object id"
      ]
    },
    {
      "cell_type": "markdown",
      "id": "c70d9a81",
      "metadata": {
        "id": "c70d9a81"
      },
      "source": [
        "**Objects of built-in types like (```int```, ```float```, ```bool```, ```str```, ```tuple```) are immutable.**\n",
        "\n",
        "**Objects of built-in types like (```list```, ```set```, ```dict```) are mutable.**\n",
        "\n",
        "Custom classes are generally mutable."
      ]
    },
    {
      "cell_type": "markdown",
      "id": "6d84afe3",
      "metadata": {
        "id": "6d84afe3"
      },
      "source": [
        "### Example 1: the following two dictionaries have the same information but different ids"
      ]
    },
    {
      "cell_type": "code",
      "execution_count": null,
      "id": "fae575ed",
      "metadata": {
        "id": "fae575ed",
        "outputId": "791f299a-1e32-4882-ee0c-f6b668ba4718"
      },
      "outputs": [
        {
          "name": "stdout",
          "output_type": "stream",
          "text": [
            "dict_a     = {'a': 1}\n",
            "dict_b     = {'a': 1}\n",
            "id(dict_a) = 3109458297728\n",
            "id(dict_b) = 3109458209728\n"
          ]
        }
      ],
      "source": [
        "dict_a = {'a': 1}\n",
        "dict_b = {'a': 1}\n",
        "print(f'{dict_a     = }')\n",
        "print(f'{dict_b     = }')\n",
        "print(f'{id(dict_a) = }')\n",
        "print(f'{id(dict_b) = }')"
      ]
    },
    {
      "cell_type": "markdown",
      "id": "31bf8441",
      "metadata": {
        "id": "31bf8441"
      },
      "source": [
        "### Example 2: what happens if I try to modify the value of a immutable object?"
      ]
    },
    {
      "cell_type": "code",
      "execution_count": null,
      "id": "3ac86381",
      "metadata": {
        "id": "3ac86381",
        "outputId": "fa5a7676-4412-4a1f-cb7d-4c968132d2dc"
      },
      "outputs": [
        {
          "name": "stdout",
          "output_type": "stream",
          "text": [
            "id(x) = 140706702287944\n",
            "id(y) = 140706702287944\n"
          ]
        }
      ],
      "source": [
        "x = 10\n",
        "y = x\n",
        "print(f'{id(x) = }')\n",
        "print(f'{id(y) = }')"
      ]
    },
    {
      "cell_type": "markdown",
      "id": "a5b6495f",
      "metadata": {
        "id": "a5b6495f"
      },
      "source": [
        "```x``` and ```y``` share the same ```id``` (**they are the same object!**)"
      ]
    },
    {
      "cell_type": "markdown",
      "id": "3444abec",
      "metadata": {
        "id": "3444abec"
      },
      "source": [
        "What happens if I modify ```x```? What happens with ```x``` and ```y```?"
      ]
    },
    {
      "cell_type": "code",
      "execution_count": null,
      "id": "07c4ab39",
      "metadata": {
        "id": "07c4ab39",
        "outputId": "86a160a3-dc34-4f8d-ed47-6a52d4a27b66"
      },
      "outputs": [
        {
          "name": "stdout",
          "output_type": "stream",
          "text": [
            "x     = 11\n",
            "y     = 10\n",
            "id(x) = 140706702287976\n",
            "id(y) = 140706702287944\n"
          ]
        }
      ],
      "source": [
        "x = x + 1  # note: this is equivalent to x += 1\n",
        "print(f'{x     = }')\n",
        "print(f'{y     = }')\n",
        "print(f'{id(x) = }')\n",
        "print(f'{id(y) = }')"
      ]
    },
    {
      "cell_type": "markdown",
      "id": "ffb64220",
      "metadata": {
        "id": "ffb64220"
      },
      "source": [
        "Do you see what happened?\n",
        "- ```y``` didn't change\n",
        "- ```x``` now has a new id! (**ints are immutable, so to change ```x```, a new object needs to be created!**)"
      ]
    },
    {
      "cell_type": "markdown",
      "id": "7790eb40",
      "metadata": {
        "id": "7790eb40"
      },
      "source": [
        "### Example 3: equivalent to example 2 but for a mutable object (list)"
      ]
    },
    {
      "cell_type": "code",
      "execution_count": null,
      "id": "8c5026b2",
      "metadata": {
        "id": "8c5026b2",
        "outputId": "c564e494-b399-473a-f858-17f1df2dcf2b"
      },
      "outputs": [
        {
          "name": "stdout",
          "output_type": "stream",
          "text": [
            "x     = [1, 2, 3, 4]\n",
            "y     = [1, 2, 3, 4]\n",
            "id(x) = 3109458213696\n",
            "id(y) = 3109458213696\n"
          ]
        }
      ],
      "source": [
        "x = [1, 2, 3, 4]  # note: this is equivalent to a = list([1, 2, 3, 4])\n",
        "y = x\n",
        "print(f'{x     = }')\n",
        "print(f'{y     = }')\n",
        "print(f'{id(x) = }')\n",
        "print(f'{id(y) = }')"
      ]
    },
    {
      "cell_type": "markdown",
      "id": "686239fa",
      "metadata": {
        "id": "686239fa"
      },
      "source": [
        "Let's modify ```x```:"
      ]
    },
    {
      "cell_type": "code",
      "execution_count": null,
      "id": "b5e7d40c",
      "metadata": {
        "id": "b5e7d40c",
        "outputId": "5207c89d-1d81-4795-dca0-06dce7e876c1"
      },
      "outputs": [
        {
          "name": "stdout",
          "output_type": "stream",
          "text": [
            "x     = [1, 2, 3, 4, 5]\n",
            "y     = [1, 2, 3, 4, 5]\n",
            "id(x) = 3109458213696\n",
            "id(y) = 3109458213696\n"
          ]
        }
      ],
      "source": [
        "x.append(5)\n",
        "print(f'{x     = }')\n",
        "print(f'{y     = }')\n",
        "print(f'{id(x) = }')\n",
        "print(f'{id(y) = }')"
      ]
    },
    {
      "cell_type": "markdown",
      "id": "275bff36",
      "metadata": {
        "id": "275bff36"
      },
      "source": [
        "**Now both, ```x``` and ```y```, were modified!** (since they are mutable!)"
      ]
    },
    {
      "cell_type": "markdown",
      "id": "b5cad813",
      "metadata": {
        "id": "b5cad813"
      },
      "source": [
        "### Exception in immutability\n",
        "\n",
        "The ```value``` of an immutable object can't change, but its constituent objects can.\n",
        "\n",
        "Let's look at a ```tuple``` which is immutable.\n",
        "\n",
        "Tuples are used to store multiple items in a single variable.\n",
        "\n",
        "**A ```tuple``` is a collection which is ordered and unchangeable.**\n",
        "\n",
        "Tuples are written with round brackets (```()```).\n",
        "\n",
        "The value of a tuple can't be changed after it is created.\n",
        "\n",
        "But the ```value``` of a tuple is in fact a sequence of names with unchangeable bindings to objects.\n",
        "\n",
        "The key thing to note is that the bindings are unchangeable, not the objects they are bound to.\n",
        "\n",
        "One could have a ```tuple``` including a mutable object for which we could change its content."
      ]
    },
    {
      "cell_type": "markdown",
      "id": "9e7f43c6",
      "metadata": {
        "id": "9e7f43c6"
      },
      "source": [
        "**Example:**"
      ]
    },
    {
      "cell_type": "code",
      "execution_count": null,
      "id": "ecbdbb85",
      "metadata": {
        "id": "ecbdbb85",
        "outputId": "e444fa19-b335-4c07-d493-3bdd770cd5e5"
      },
      "outputs": [
        {
          "name": "stdout",
          "output_type": "stream",
          "text": [
            "my_tuple = ('A string', [1, 2, 3, 4])\n"
          ]
        }
      ],
      "source": [
        "my_tuple = ('A string', [1, 2, 3, 4])\n",
        "print(f'{my_tuple = }')"
      ]
    },
    {
      "cell_type": "markdown",
      "id": "aca131d4",
      "metadata": {
        "id": "aca131d4"
      },
      "source": [
        "Let's change the content of the list"
      ]
    },
    {
      "cell_type": "code",
      "execution_count": null,
      "id": "18a59105",
      "metadata": {
        "id": "18a59105",
        "outputId": "32096b1e-2423-4a3d-ff81-16920bef72c7"
      },
      "outputs": [
        {
          "name": "stdout",
          "output_type": "stream",
          "text": [
            "my_tuple = ('A string', [1, 2, 3, 4, 5])\n"
          ]
        }
      ],
      "source": [
        "my_tuple[1].append(5)\n",
        "print(f'{my_tuple = }')"
      ]
    },
    {
      "cell_type": "markdown",
      "id": "6091dcef",
      "metadata": {
        "id": "6091dcef"
      },
      "source": [
        "## <div id='equality-vs-identity'>11. Equality vs identity</div>"
      ]
    },
    {
      "cell_type": "markdown",
      "id": "0ef8174a",
      "metadata": {
        "id": "0ef8174a"
      },
      "source": [
        " ### What is the difference between ```==``` (equality) and Python's keyword ```is``` (identity)?"
      ]
    },
    {
      "cell_type": "markdown",
      "id": "13fc3049",
      "metadata": {
        "id": "13fc3049"
      },
      "source": [
        "When an ```==``` is used in a condition, we are asking Python if two variables contain the same thing (information)."
      ]
    },
    {
      "cell_type": "code",
      "execution_count": null,
      "id": "0d4f0007",
      "metadata": {
        "id": "0d4f0007",
        "outputId": "dbc68900-57ae-4004-bf31-da240290fe40"
      },
      "outputs": [
        {
          "name": "stdout",
          "output_type": "stream",
          "text": [
            "num_1 == num_2\n",
            "list_1 == list_2\n"
          ]
        }
      ],
      "source": [
        "num_1 = 1\n",
        "num_2 = num_1\n",
        "\n",
        "if num_1 == num_2:\n",
        "    print('num_1 == num_2')\n",
        "\n",
        "list_1 = [1, 2, 3, 4]\n",
        "list_2 = [1, 2, 3, 4]\n",
        "\n",
        "if list_1 == list_2:\n",
        "    print('list_1 == list_2')"
      ]
    },
    {
      "cell_type": "markdown",
      "id": "5405df48",
      "metadata": {
        "id": "5405df48"
      },
      "source": [
        "In the two examples above, ```num_1``` (```list_1```) and ```num_2``` (```list_2```) are equal. But are ```num_1``` (```list_1```) and ```num_2``` (```list_2```) identical (i.e., the same objects)? In this case, we are asking if they have the same identity (i.e. if they are actually the same object).\n",
        "\n",
        "In the case of ```num_1``` and ```num_2```, the answer is yes:"
      ]
    },
    {
      "cell_type": "code",
      "execution_count": null,
      "id": "26cd02cb",
      "metadata": {
        "id": "26cd02cb",
        "outputId": "99db970e-203b-4198-bef7-f57870fb3564"
      },
      "outputs": [
        {
          "name": "stdout",
          "output_type": "stream",
          "text": [
            "num_1 and num_2 are identical\n"
          ]
        }
      ],
      "source": [
        "if id(num_1) == id(num_2):\n",
        "    print('num_1 and num_2 are identical')"
      ]
    },
    {
      "cell_type": "markdown",
      "id": "e1811f3e",
      "metadata": {
        "id": "e1811f3e"
      },
      "source": [
        "We can check the same using ```is```:"
      ]
    },
    {
      "cell_type": "code",
      "execution_count": null,
      "id": "224d9b12",
      "metadata": {
        "id": "224d9b12",
        "outputId": "000142a9-b5fd-4f48-a742-9482bc88f495"
      },
      "outputs": [
        {
          "name": "stdout",
          "output_type": "stream",
          "text": [
            "num_1 and num_2 are identical\n"
          ]
        }
      ],
      "source": [
        "if num_1 is num_2:\n",
        "    print('num_1 and num_2 are identical')"
      ]
    },
    {
      "cell_type": "markdown",
      "id": "27b321c2",
      "metadata": {
        "id": "27b321c2"
      },
      "source": [
        "In the case of ```list_1``` and ```list_2```, the answer is no:"
      ]
    },
    {
      "cell_type": "code",
      "execution_count": null,
      "id": "80a590e7",
      "metadata": {
        "id": "80a590e7",
        "outputId": "1e22d721-9b21-4265-9cd0-d1717252de39"
      },
      "outputs": [
        {
          "name": "stdout",
          "output_type": "stream",
          "text": [
            "list_1 and list_2 are not identical\n"
          ]
        }
      ],
      "source": [
        "if list_1 is not list_2:\n",
        "    print('list_1 and list_2 are not identical')"
      ]
    },
    {
      "cell_type": "markdown",
      "id": "272121f4",
      "metadata": {
        "id": "272121f4"
      },
      "source": [
        "**Note:** Naturally, if ```id(a) == id(b)``` (```a``` and ```b``` are identical) we know ```a == b``` (equal)"
      ]
    },
    {
      "cell_type": "markdown",
      "id": "b2ba95fa",
      "metadata": {
        "id": "b2ba95fa"
      },
      "source": [
        "## <div id='importing'>12. Importing modules and packages</div>\n",
        "\n",
        "Python code is organized into both modules and packages.\n",
        "\n",
        "Code in one module gains access to the code in another module by the process of importing it.\n",
        "\n",
        "### Modules\n",
        "\n",
        "In practice, a module usually corresponds to one .py file containing Python code.\n",
        "\n",
        "Modules can be imported and hence, functions/variables/classes therein can be reused in another code.\n",
        "\n",
        "**Example:**\n",
        "\n",
        "First, import the ```math``` module\n",
        "\n",
        "**Note:** ```math``` is part of Python’s standard library (i.e. it’s always available to import)"
      ]
    },
    {
      "cell_type": "code",
      "execution_count": null,
      "id": "2c6e5702",
      "metadata": {
        "id": "2c6e5702"
      },
      "outputs": [],
      "source": [
        "import math"
      ]
    },
    {
      "cell_type": "markdown",
      "id": "aa750c4a",
      "metadata": {
        "id": "aa750c4a"
      },
      "source": [
        "Then, access the pi variable ($\\pi$) within the math module"
      ]
    },
    {
      "cell_type": "code",
      "execution_count": null,
      "id": "a83fabff",
      "metadata": {
        "id": "a83fabff",
        "outputId": "37bd3ee3-8229-48af-d1f8-92c827725e3f"
      },
      "outputs": [
        {
          "name": "stdout",
          "output_type": "stream",
          "text": [
            "3.141592653589793\n"
          ]
        }
      ],
      "source": [
        "print(math.pi)"
      ]
    },
    {
      "cell_type": "markdown",
      "id": "c2e1b035",
      "metadata": {
        "id": "c2e1b035"
      },
      "source": [
        "**Note:** I wrote ```math.pi``` and not just simply ```pi```!\n",
        "\n",
        "In addition to being a module, ```math``` acts as a **namespace** that keeps all the attributes of the module together.\n",
        "\n",
        "You can list the content of a namespace with ```dir()``` and as you can see below, ```pi``` is one of the available attributes from ```math```:"
      ]
    },
    {
      "cell_type": "code",
      "execution_count": null,
      "id": "2086b973",
      "metadata": {
        "id": "2086b973",
        "outputId": "50030b4b-3905-4d83-a10a-74d1cfdcbeb6"
      },
      "outputs": [
        {
          "data": {
            "text/plain": [
              "['__doc__',\n",
              " '__loader__',\n",
              " '__name__',\n",
              " '__package__',\n",
              " '__spec__',\n",
              " 'acos',\n",
              " 'acosh',\n",
              " 'asin',\n",
              " 'asinh',\n",
              " 'atan',\n",
              " 'atan2',\n",
              " 'atanh',\n",
              " 'cbrt',\n",
              " 'ceil',\n",
              " 'comb',\n",
              " 'copysign',\n",
              " 'cos',\n",
              " 'cosh',\n",
              " 'degrees',\n",
              " 'dist',\n",
              " 'e',\n",
              " 'erf',\n",
              " 'erfc',\n",
              " 'exp',\n",
              " 'exp2',\n",
              " 'expm1',\n",
              " 'fabs',\n",
              " 'factorial',\n",
              " 'floor',\n",
              " 'fmod',\n",
              " 'frexp',\n",
              " 'fsum',\n",
              " 'gamma',\n",
              " 'gcd',\n",
              " 'hypot',\n",
              " 'inf',\n",
              " 'isclose',\n",
              " 'isfinite',\n",
              " 'isinf',\n",
              " 'isnan',\n",
              " 'isqrt',\n",
              " 'lcm',\n",
              " 'ldexp',\n",
              " 'lgamma',\n",
              " 'log',\n",
              " 'log10',\n",
              " 'log1p',\n",
              " 'log2',\n",
              " 'modf',\n",
              " 'nan',\n",
              " 'nextafter',\n",
              " 'perm',\n",
              " 'pi',\n",
              " 'pow',\n",
              " 'prod',\n",
              " 'radians',\n",
              " 'remainder',\n",
              " 'sin',\n",
              " 'sinh',\n",
              " 'sqrt',\n",
              " 'tan',\n",
              " 'tanh',\n",
              " 'tau',\n",
              " 'trunc',\n",
              " 'ulp']"
            ]
          },
          "execution_count": 232,
          "metadata": {},
          "output_type": "execute_result"
        }
      ],
      "source": [
        "dir(math)"
      ]
    },
    {
      "cell_type": "markdown",
      "id": "dd7d23b5",
      "metadata": {
        "id": "dd7d23b5"
      },
      "source": [
        "#### How import only what is needed?\n",
        "\n",
        "This helps to speed up your Python modules.\n",
        "\n",
        "**Example 1:**"
      ]
    },
    {
      "cell_type": "code",
      "execution_count": null,
      "id": "53b7981b",
      "metadata": {
        "id": "53b7981b",
        "outputId": "3143dbb0-27bd-4735-a1c4-acd6ce53292d"
      },
      "outputs": [
        {
          "name": "stdout",
          "output_type": "stream",
          "text": [
            "3.141592653589793\n"
          ]
        }
      ],
      "source": [
        "from math import pi\n",
        "print(pi)"
      ]
    },
    {
      "cell_type": "markdown",
      "id": "974bc8fc",
      "metadata": {
        "id": "974bc8fc"
      },
      "source": [
        "**Note:** that this places ```pi``` in the global namespace and not within a ```math``` namespace."
      ]
    },
    {
      "cell_type": "markdown",
      "id": "dc54fe47",
      "metadata": {
        "id": "dc54fe47"
      },
      "source": [
        "**Example 2:**\n",
        "\n",
        "Let's now import the ```cos()``` function and ```pi```"
      ]
    },
    {
      "cell_type": "code",
      "execution_count": null,
      "id": "4a8e5755",
      "metadata": {
        "id": "4a8e5755",
        "outputId": "074723bd-1f5e-420b-cadd-2bb86c66e3cf"
      },
      "outputs": [
        {
          "name": "stdout",
          "output_type": "stream",
          "text": [
            "-1.0\n"
          ]
        }
      ],
      "source": [
        "from math import pi, cos\n",
        "print(cos(pi))"
      ]
    },
    {
      "cell_type": "markdown",
      "id": "607f8f19",
      "metadata": {
        "id": "607f8f19"
      },
      "source": [
        "**Example 3:**\n",
        "\n",
        "You can also rename modules:"
      ]
    },
    {
      "cell_type": "code",
      "execution_count": null,
      "id": "ae87aff0",
      "metadata": {
        "id": "ae87aff0",
        "outputId": "fec571e8-9861-4dda-c347-4fdebe8995f5"
      },
      "outputs": [
        {
          "name": "stdout",
          "output_type": "stream",
          "text": [
            "3.141592653589793\n"
          ]
        }
      ],
      "source": [
        "import math as m\n",
        "print(m.pi)"
      ]
    },
    {
      "cell_type": "markdown",
      "id": "f9de3592",
      "metadata": {
        "id": "f9de3592"
      },
      "source": [
        "**Note:** The namespace is now called ```m```"
      ]
    },
    {
      "cell_type": "markdown",
      "id": "e283af18",
      "metadata": {
        "id": "e283af18"
      },
      "source": [
        "**Example 4:**\n",
        "\n",
        "You can also rename attributes:"
      ]
    },
    {
      "cell_type": "code",
      "execution_count": null,
      "id": "83a5c8df",
      "metadata": {
        "id": "83a5c8df",
        "outputId": "03f89a62-1b1c-444f-f451-ebf063a0cbd8"
      },
      "outputs": [
        {
          "name": "stdout",
          "output_type": "stream",
          "text": [
            "3.141592653589793\n"
          ]
        }
      ],
      "source": [
        "from math import pi as PI\n",
        "print(PI)"
      ]
    },
    {
      "cell_type": "markdown",
      "id": "c72ab1a0",
      "metadata": {
        "id": "c72ab1a0"
      },
      "source": [
        "#### How to check the version of a module that was imported?\n",
        "\n",
        "For any module not available in the standard library, one could check its version with the ```__version__``` attribute. This is not available for modules from the standard library since its version would be the version of Python."
      ]
    },
    {
      "cell_type": "markdown",
      "id": "62b49142",
      "metadata": {
        "id": "62b49142"
      },
      "source": [
        "**Note:** See the Helpful_modules notebook to learn about the most useful Python modules"
      ]
    },
    {
      "cell_type": "markdown",
      "id": "bed06f03",
      "metadata": {
        "id": "bed06f03"
      },
      "source": [
        "### Packages\n",
        "\n",
        "You can use a package to further organize your modules.\n",
        "\n",
        "A package is a Python module which can contain submodules subpackages.\n",
        "\n",
        "A package typically corresponds to a file directory containing Python modules and other directories/folders. To create a Python package, you need to create a directory and place inside a file named ```__init__.py```. The ```__init__.py``` file contains the contents of the package when importing it. It can be left empty.\n",
        "\n",
        "In general, submodules and subpackages aren’t imported when you import a package (when ```__init__.py``` is empty).\n",
        "\n",
        "In such a case, you would need to do something like this:\n",
        "\n",
        "```\n",
        "from package.file import function\n",
        "from package.file import class\n",
        "```"
      ]
    },
    {
      "cell_type": "markdown",
      "id": "1c66cc07",
      "metadata": {
        "id": "1c66cc07"
      },
      "source": [
        "# <div id='exercises' align='center'>13. Exercises</div>"
      ]
    },
    {
      "cell_type": "markdown",
      "id": "31d2ec7a",
      "metadata": {
        "id": "31d2ec7a"
      },
      "source": [
        "## Exercise 1\n",
        "\n",
        "Evaluate the following formula for ```x=5```: 2x+(x-1)^3"
      ]
    },
    {
      "cell_type": "markdown",
      "id": "d8f7a49b",
      "metadata": {
        "id": "d8f7a49b"
      },
      "source": [
        "## Exercise 2\n",
        "\n",
        "Create a list of the lowest 10 even numbers using list comprehension"
      ]
    },
    {
      "cell_type": "markdown",
      "id": "3d9c5ee5",
      "metadata": {
        "id": "3d9c5ee5"
      },
      "source": [
        "## Exercise 3\n",
        "\n",
        "Print the first and last elements from the following list: ```names = ['Jonathan', 'David', 'George', 'Matthias']```"
      ]
    },
    {
      "cell_type": "markdown",
      "id": "5860bbe4",
      "metadata": {
        "id": "5860bbe4"
      },
      "source": [
        "## Exercise 4"
      ]
    },
    {
      "cell_type": "markdown",
      "id": "cbf7fcc0",
      "metadata": {
        "id": "cbf7fcc0"
      },
      "source": [
        "Generate a dictionary using dict comprehension where the keys are numbers between 1 and 10 (both included) and each corresponding value is the square of the key"
      ]
    },
    {
      "cell_type": "markdown",
      "id": "f3b3152a",
      "metadata": {
        "id": "f3b3152a"
      },
      "source": [
        "## Exercise 6\n",
        "\n",
        "Create a string by concatenating all elements in a list and introducing a space between all elements.\n",
        "\n",
        "You could use the following list of strings: ```['My', 'name', 'is', 'Michele']```."
      ]
    },
    {
      "cell_type": "markdown",
      "id": "b083dcfc",
      "metadata": {
        "id": "b083dcfc"
      },
      "source": [
        "## Exercise 7\n",
        "\n",
        "Create a variable named ```my_string``` equal to ```'This is a test'```. Check if ```my_string``` is empty or not, and print ```\"This is a test\" is not empty``` only if ```my_string``` is not empty."
      ]
    },
    {
      "cell_type": "markdown",
      "id": "e6fc8885",
      "metadata": {
        "id": "e6fc8885"
      },
      "source": [
        "## <div id='solutions' align='center'>13.A. Solutions</div>"
      ]
    },
    {
      "cell_type": "markdown",
      "id": "77a087bb",
      "metadata": {
        "id": "77a087bb"
      },
      "source": [
        "### Answer exercise 1"
      ]
    },
    {
      "cell_type": "code",
      "execution_count": null,
      "id": "ac0ac248",
      "metadata": {
        "id": "ac0ac248",
        "outputId": "557d324e-2383-40a3-dfbf-3a720985a9a1"
      },
      "outputs": [
        {
          "name": "stdout",
          "output_type": "stream",
          "text": [
            "74\n"
          ]
        }
      ],
      "source": [
        "print(2*5 + (5-1)**3)"
      ]
    },
    {
      "cell_type": "markdown",
      "id": "e06cd9fd",
      "metadata": {
        "id": "e06cd9fd"
      },
      "source": [
        "### Answer exercise 2"
      ]
    },
    {
      "cell_type": "code",
      "execution_count": null,
      "id": "07ea2e43",
      "metadata": {
        "id": "07ea2e43",
        "outputId": "500b18ac-a04d-4750-a775-230863c5c23c"
      },
      "outputs": [
        {
          "name": "stdout",
          "output_type": "stream",
          "text": [
            "[0, 2, 4, 6, 8, 10, 12, 14, 16, 18]\n"
          ]
        }
      ],
      "source": [
        "even_numbers = [i for i in range(19) if i % 2 == 0]\n",
        "print(even_numbers)"
      ]
    },
    {
      "cell_type": "markdown",
      "id": "41facef5",
      "metadata": {
        "id": "41facef5"
      },
      "source": [
        "### Answer exercise 3"
      ]
    },
    {
      "cell_type": "code",
      "execution_count": null,
      "id": "13f0ba14",
      "metadata": {
        "id": "13f0ba14",
        "outputId": "37276966-0e7c-4007-d4be-33fed529b61b"
      },
      "outputs": [
        {
          "name": "stdout",
          "output_type": "stream",
          "text": [
            "Jonathan Matthias\n"
          ]
        }
      ],
      "source": [
        "names = ['Jonathan', 'David', 'George', 'Matthias']\n",
        "print(names[0], names[-1])"
      ]
    },
    {
      "cell_type": "markdown",
      "id": "d5e9a50b",
      "metadata": {
        "id": "d5e9a50b"
      },
      "source": [
        "### Answer exercise 4"
      ]
    },
    {
      "cell_type": "code",
      "execution_count": null,
      "id": "facc7322",
      "metadata": {
        "id": "facc7322",
        "outputId": "4eb8f427-442d-4ad6-caa7-bc52e1f33118"
      },
      "outputs": [
        {
          "name": "stdout",
          "output_type": "stream",
          "text": [
            "{1: 1, 2: 4, 3: 9, 4: 16, 5: 25, 6: 36, 7: 49, 8: 64, 9: 81, 10: 100}\n"
          ]
        }
      ],
      "source": [
        "my_dict = {key: key*key for key in range(1, 11)}\n",
        "print(my_dict)"
      ]
    },
    {
      "cell_type": "markdown",
      "id": "509488e4",
      "metadata": {
        "id": "509488e4"
      },
      "source": [
        "### Answer exercise 5"
      ]
    },
    {
      "cell_type": "code",
      "execution_count": null,
      "id": "fe19acca",
      "metadata": {
        "id": "fe19acca",
        "outputId": "9a82af78-b8de-4680-a456-48c78a69141b"
      },
      "outputs": [
        {
          "name": "stdout",
          "output_type": "stream",
          "text": [
            "It's OK\n"
          ]
        }
      ],
      "source": [
        "string_2 = 'OK'\n",
        "if not string_2.startswith(\"It's \"):\n",
        "    string_2 = \"It's \" + string_2\n",
        "print(string_2)"
      ]
    },
    {
      "cell_type": "markdown",
      "id": "6b9aae6a",
      "metadata": {
        "id": "6b9aae6a"
      },
      "source": [
        "### Answer exercise 6"
      ]
    },
    {
      "cell_type": "code",
      "execution_count": null,
      "id": "1ab05c4c",
      "metadata": {
        "id": "1ab05c4c",
        "outputId": "7cd43df3-8153-4007-88d0-ba3c7ca1eb6d"
      },
      "outputs": [
        {
          "name": "stdout",
          "output_type": "stream",
          "text": [
            "My name is Michele\n"
          ]
        }
      ],
      "source": [
        "list_of_strings = ['My', 'name', 'is', 'Michele']\n",
        "final_string = ' '.join(list_of_strings)\n",
        "print(final_string)"
      ]
    },
    {
      "cell_type": "markdown",
      "id": "eccabd9d",
      "metadata": {
        "id": "eccabd9d"
      },
      "source": [
        "### Answer exercise 7"
      ]
    },
    {
      "cell_type": "code",
      "execution_count": null,
      "id": "69855d1e",
      "metadata": {
        "id": "69855d1e",
        "outputId": "dda60e4f-4ffa-433c-9c2d-36529ed34594"
      },
      "outputs": [
        {
          "name": "stdout",
          "output_type": "stream",
          "text": [
            "\"This is a test\" is not empty\n"
          ]
        }
      ],
      "source": [
        "my_string = 'This is a test'\n",
        "if my_string:\n",
        "    print(f'\"{my_string}\" is not empty')"
      ]
    }
  ],
  "metadata": {
    "kernelspec": {
      "display_name": "Python 3",
      "language": "python",
      "name": "python3"
    },
    "language_info": {
      "codemirror_mode": {
        "name": "ipython",
        "version": 3
      },
      "file_extension": ".py",
      "mimetype": "text/x-python",
      "name": "python",
      "nbconvert_exporter": "python",
      "pygments_lexer": "ipython3",
      "version": "3.11.6"
    },
    "colab": {
      "provenance": [],
      "include_colab_link": true
    }
  },
  "nbformat": 4,
  "nbformat_minor": 5
}