{
  "cells": [
    {
      "cell_type": "markdown",
      "id": "a7b2049a",
      "metadata": {
        "id": "a7b2049a"
      },
      "source": [
        "# <div align='center'>Introduction to Python for data analysis: Functions</div>\n",
        "\n",
        "# Contents\n",
        "\n",
        "1. <a href=\"#functions\">What is a function?</a>\n",
        "2. <a href='#naming'>Naming convention</a>\n",
        "3. <a href='#no-argument-no-return'>Function with no arguments and no return</a>\n",
        "4. <a href='#single-argument-single-return'>Function with a single argument and a single return value</a>\n",
        "5. <a href='#multiple-arguments'>Function with multiple arguments</a>\n",
        "6. <a href='#useful'>Why are functions useful?</a>\n",
        "7. <a href='#commenting'>How to comment what a function does?</a>\n",
        "8. <a href='#variables'>Defining variables in functions</a>\n",
        "9. <a href='#annotations'>Function annotations</a>\n",
        "10. <a href='#return-tuple'>How to return several objects as a tuple?</a>\n",
        "11. <a href='#passing'>How objects are passed to functions?</a>\n",
        "12. <a href='#args'>Arbitrary number of arguments</a>\n",
        "13. <a href='#keyword-arguments'>Keyword Arguments</a>\n",
        "14. <a href='#kargs'>Arbitrary Keyword Arguments</a>\n",
        "15. <a href='#optional-argument'>Optional arguments</a>\n",
        "16. <a href='#helpful-functions'>Some helpful built-in functions</a>\n",
        "17. <a href='#lambda-functions'>Lambda functions</a>\n",
        "18. <a href='#map-function'>The map() function</a>\n",
        "19. <a href='#decorators'>Function decorators</a>\n",
        "20. <a href='#exercises'>Exercises</a>\n",
        "    1. <a href='#solutions'>Solutions</a>"
      ]
    },
    {
      "cell_type": "markdown",
      "id": "0ea0026b",
      "metadata": {
        "id": "0ea0026b"
      },
      "source": [
        "## <div id='functions'>1. What is a function?</div>\n",
        "\n",
        "A function is a block of code which only runs when it is called.\n",
        "\n",
        "You can pass/provide data to the function, known as arguments or parameters.\n",
        "\n",
        "A function can return data as a result.\n",
        "\n",
        "Functions are helpful for organizing code and to reduce duplication.\n",
        "\n",
        "\n",
        "## <div id='naming'>2. Naming convention</div>\n",
        "\n",
        "The naming convention for functions is the same as for variables (skane_case)"
      ]
    },
    {
      "cell_type": "markdown",
      "id": "81303458",
      "metadata": {
        "id": "81303458"
      },
      "source": [
        "## <div id='no-argument-no-return'>3. Example 1: function with no arguments and no return</div>"
      ]
    },
    {
      "cell_type": "markdown",
      "id": "8e12e6c4",
      "metadata": {
        "id": "8e12e6c4"
      },
      "source": [
        "Let's first define the ```print_hello_world()``` function:"
      ]
    },
    {
      "cell_type": "code",
      "execution_count": null,
      "id": "ae9c7198",
      "metadata": {
        "id": "ae9c7198"
      },
      "outputs": [],
      "source": [
        "def print_hello_world():\n",
        "    print('Hello world!')"
      ]
    },
    {
      "cell_type": "markdown",
      "id": "2feed7e6",
      "metadata": {
        "id": "2feed7e6"
      },
      "source": [
        "Use/call the ```print_hello_world()``` function:"
      ]
    },
    {
      "cell_type": "code",
      "execution_count": null,
      "id": "665f3c23",
      "metadata": {
        "id": "665f3c23",
        "outputId": "1cc957f8-2b65-4bcd-f4de-ff14bbf428d3"
      },
      "outputs": [
        {
          "name": "stdout",
          "output_type": "stream",
          "text": [
            "Hello world!\n"
          ]
        }
      ],
      "source": [
        "print_hello_world()"
      ]
    },
    {
      "cell_type": "markdown",
      "id": "44b905a2",
      "metadata": {
        "id": "44b905a2"
      },
      "source": [
        "## <div id='single-argument-single-return'>4. Example 2: function with a single argument and a single return value</div>\n",
        "\n",
        "To let a function return a value, use the ```return``` statement:"
      ]
    },
    {
      "cell_type": "code",
      "execution_count": null,
      "id": "50dc1590",
      "metadata": {
        "id": "50dc1590"
      },
      "outputs": [],
      "source": [
        "def sum_2(n):\n",
        "    return n + 2"
      ]
    },
    {
      "cell_type": "markdown",
      "id": "d2f5e9f1",
      "metadata": {
        "id": "d2f5e9f1"
      },
      "source": [
        "Call the ```sum_2``` function:"
      ]
    },
    {
      "cell_type": "code",
      "execution_count": null,
      "id": "ed4348ac",
      "metadata": {
        "id": "ed4348ac",
        "outputId": "43944599-77f1-4566-a5be-061b6d271991"
      },
      "outputs": [
        {
          "name": "stdout",
          "output_type": "stream",
          "text": [
            "sum_2(2) = 4\n"
          ]
        }
      ],
      "source": [
        "print(f'{sum_2(2) = }')"
      ]
    },
    {
      "cell_type": "markdown",
      "id": "6c2b21ef",
      "metadata": {
        "id": "6c2b21ef"
      },
      "source": [
        "The above ```sum_2()``` function would be equal to the following:"
      ]
    },
    {
      "cell_type": "code",
      "execution_count": null,
      "id": "c6fe265e",
      "metadata": {
        "id": "c6fe265e"
      },
      "outputs": [],
      "source": [
        "def sum_2(n):\n",
        "    result = n + 2\n",
        "    return result"
      ]
    },
    {
      "cell_type": "markdown",
      "id": "76343cd3",
      "metadata": {
        "id": "76343cd3"
      },
      "source": [
        "**Note:** both ```result``` and ```n``` are only define within the so-called \"scope\" of the function ```sum_2()```. If one would try to print ```result``` (or ```n```), one would get an error saying ```name 'result' is not defined``` (or ```name 'n' is not defined```), unless there is another variable named ```result``` (or ```n```) defined outside the ```sum_2()``` function. Let's see this with an example:"
      ]
    },
    {
      "cell_type": "code",
      "execution_count": null,
      "id": "53f476c3",
      "metadata": {
        "id": "53f476c3",
        "outputId": "acb67ca5-6a1a-42ca-e667-c1a5b4021548"
      },
      "outputs": [
        {
          "name": "stdout",
          "output_type": "stream",
          "text": [
            "result = 3\n",
            "n = 5\n"
          ]
        }
      ],
      "source": [
        "n = 5\n",
        "result = 3\n",
        "my_new_result = sum_2(6)\n",
        "print(f'{result = }')\n",
        "print(f'{n = }')"
      ]
    },
    {
      "cell_type": "markdown",
      "id": "a2a5b718",
      "metadata": {
        "id": "a2a5b718"
      },
      "source": [
        "## <div id='multiple-arguments'>5. Example 3: function with multiple arguments</div>"
      ]
    },
    {
      "cell_type": "code",
      "execution_count": null,
      "id": "acc357e1",
      "metadata": {
        "id": "acc357e1"
      },
      "outputs": [],
      "source": [
        "def multiply(x,y):\n",
        "    return x*y"
      ]
    },
    {
      "cell_type": "markdown",
      "id": "cfc3a678",
      "metadata": {
        "id": "cfc3a678"
      },
      "source": [
        "Call the ```multiply()``` function:"
      ]
    },
    {
      "cell_type": "code",
      "execution_count": null,
      "id": "3630ecb8",
      "metadata": {
        "id": "3630ecb8",
        "outputId": "dc0ba364-e4f8-45af-e075-03c6000070a8"
      },
      "outputs": [
        {
          "name": "stdout",
          "output_type": "stream",
          "text": [
            "multiply(2,3) = 6\n"
          ]
        }
      ],
      "source": [
        "print(f'{multiply(2,3) = }')"
      ]
    },
    {
      "cell_type": "markdown",
      "id": "2762ddfe",
      "metadata": {
        "id": "2762ddfe"
      },
      "source": [
        "## <div id='useful'>6. Example 4: why are functions useful?</div>\n",
        "\n",
        "Let's imagine I want to make a complex mathematical calculation several times\n",
        "\n",
        "A function allows me to define such calculation only once"
      ]
    },
    {
      "cell_type": "code",
      "execution_count": null,
      "id": "8f39cd4a",
      "metadata": {
        "id": "8f39cd4a"
      },
      "outputs": [],
      "source": [
        "def calc(x, y, string):\n",
        "    if string == 'case1':\n",
        "        return 2 + x + y + x**y\n",
        "    elif string == 'case2':\n",
        "        return x - y + x**y\n",
        "    else:\n",
        "        return y - x"
      ]
    },
    {
      "cell_type": "markdown",
      "id": "fdea7474",
      "metadata": {
        "id": "fdea7474"
      },
      "source": [
        "Call the ```calc()``` function three times:"
      ]
    },
    {
      "cell_type": "code",
      "execution_count": null,
      "id": "79ea7031",
      "metadata": {
        "id": "79ea7031",
        "outputId": "f9c4a1b0-9c47-4702-8279-bb93efcc9b38"
      },
      "outputs": [
        {
          "name": "stdout",
          "output_type": "stream",
          "text": [
            "calc(2, 5, \"case1\") = 41\n",
            "calc(2, 5, \"case2\") = 29\n",
            "calc(2, 5, \"case3\") = 3\n"
          ]
        }
      ],
      "source": [
        "print(f'{calc(2, 5, \"case1\") = }')\n",
        "print(f'{calc(2, 5, \"case2\") = }')\n",
        "print(f'{calc(2, 5, \"case3\") = }')"
      ]
    },
    {
      "cell_type": "markdown",
      "id": "a5d942d1",
      "metadata": {
        "id": "a5d942d1"
      },
      "source": [
        "**Note:** I needed to use ```\"\"``` instead of ```''``` for passing a str argument"
      ]
    },
    {
      "cell_type": "markdown",
      "id": "d03a826b",
      "metadata": {
        "id": "d03a826b"
      },
      "source": [
        "## <div id='commenting'>7. Example 5: comment what a function does</div>"
      ]
    },
    {
      "cell_type": "code",
      "execution_count": null,
      "id": "75f521c5",
      "metadata": {
        "id": "75f521c5"
      },
      "outputs": [],
      "source": [
        "def my_func():\n",
        "    \"\"\"This function returns 0\"\"\"\n",
        "    return 0"
      ]
    },
    {
      "cell_type": "markdown",
      "id": "9483db9e",
      "metadata": {
        "id": "9483db9e"
      },
      "source": [
        "I can print such comment using ```__doc__```:"
      ]
    },
    {
      "cell_type": "code",
      "execution_count": null,
      "id": "d33b7ae9",
      "metadata": {
        "id": "d33b7ae9",
        "outputId": "c22e5ed0-746d-4673-8f69-8da46e32d977"
      },
      "outputs": [
        {
          "name": "stdout",
          "output_type": "stream",
          "text": [
            "my_func.__doc__ = 'This function returns 0'\n"
          ]
        }
      ],
      "source": [
        "print(f'{my_func.__doc__ = }')"
      ]
    },
    {
      "cell_type": "markdown",
      "id": "2f1751b3",
      "metadata": {
        "id": "2f1751b3"
      },
      "source": [
        "## <div id='variables'>8. Example 6: defining variables in functions</div>\n",
        "\n",
        "Let's re-define ```my_func()``` to now create a **local varible**."
      ]
    },
    {
      "cell_type": "code",
      "execution_count": null,
      "id": "1fcb22f4",
      "metadata": {
        "id": "1fcb22f4"
      },
      "outputs": [],
      "source": [
        "def my_func():\n",
        "    a = 2\n",
        "    return a"
      ]
    },
    {
      "cell_type": "markdown",
      "id": "cde9d0c3",
      "metadata": {
        "id": "cde9d0c3"
      },
      "source": [
        "What happens if I try to print the value of ```a``` outside the ```my_func()``` function? If I do that, I will be getting the following error:\n",
        "\n",
        "```\n",
        "NameError: name 'a' is not defined\n",
        "```\n",
        "\n",
        "This is because ```a``` is a local variable, and can only be used within the so-called **scope** of the ```my_func()``` function, i.e. only inside such a function.\n",
        "\n",
        "Let's define now a **global variable**, that is a variable that we can access outside such a function but also inside!"
      ]
    },
    {
      "cell_type": "code",
      "execution_count": null,
      "id": "e5e94318",
      "metadata": {
        "id": "e5e94318",
        "outputId": "3e04da1d-99aa-419d-d918-9290085a58c2"
      },
      "outputs": [
        {
          "name": "stdout",
          "output_type": "stream",
          "text": [
            "a = 1\n"
          ]
        }
      ],
      "source": [
        "a = 1\n",
        "def my_func():\n",
        "    print(f'{a = }')\n",
        "\n",
        "my_func()"
      ]
    },
    {
      "cell_type": "markdown",
      "id": "f4ccd4d4",
      "metadata": {
        "id": "f4ccd4d4"
      },
      "source": [
        "As you can see, ```my_func()``` had no problem using ```a```.\n",
        "\n",
        "What happens if I have two variables, named exactly the same, one that is global and another one that is local?"
      ]
    },
    {
      "cell_type": "code",
      "execution_count": null,
      "id": "c4b952e4",
      "metadata": {
        "id": "c4b952e4",
        "outputId": "3728df59-6015-4dd9-d1d5-ad8910dc3f85"
      },
      "outputs": [
        {
          "name": "stdout",
          "output_type": "stream",
          "text": [
            "a inside my_func() = 2\n",
            "a outside my_func() = 1\n"
          ]
        }
      ],
      "source": [
        "a = 1\n",
        "def my_func():\n",
        "    a = 2\n",
        "    print(f'a inside my_func() = {a}')\n",
        "\n",
        "my_func()\n",
        "print(f'a outside my_func() = {a}')"
      ]
    },
    {
      "cell_type": "markdown",
      "id": "15fabfac",
      "metadata": {
        "id": "15fabfac"
      },
      "source": [
        "As you can see above, the value of ```a``` outside the function is that of the gobal variable (the one defined outside the function), while the value of ```a``` inside the function is that of the local varaible."
      ]
    },
    {
      "cell_type": "markdown",
      "id": "6ecb8ddd",
      "metadata": {
        "id": "6ecb8ddd"
      },
      "source": [
        "## <div id='annotations'>9. Function annotations</div>\n",
        "\n",
        "One can improve the readability of a function with function annotations.\n",
        "\n",
        "In the following function, I'm saying I need an ```int``` and a ```str``` arguments, and that I will return a dictionary.\n",
        "\n",
        "These are also known as type hints."
      ]
    },
    {
      "cell_type": "code",
      "execution_count": null,
      "id": "7d52cbd2",
      "metadata": {
        "id": "7d52cbd2"
      },
      "outputs": [],
      "source": [
        "def create_dict(x: int, y: str) -> dict:\n",
        "    \"\"\"Example of a function using annotations\"\"\"\n",
        "    return {x: y} # note: I'm using dictionary comprehension here"
      ]
    },
    {
      "cell_type": "markdown",
      "id": "9eb9b228",
      "metadata": {
        "id": "9eb9b228"
      },
      "source": [
        "Call the ```create_dict()``` function:"
      ]
    },
    {
      "cell_type": "code",
      "execution_count": null,
      "id": "9b529543",
      "metadata": {
        "id": "9b529543",
        "outputId": "cfdb0c96-0395-4870-bc48-dd098bab18fd"
      },
      "outputs": [
        {
          "name": "stdout",
          "output_type": "stream",
          "text": [
            "create_dict(2, \"example\") = {2: 'example'}\n"
          ]
        }
      ],
      "source": [
        "print(f'{create_dict(2, \"example\") = }')"
      ]
    },
    {
      "cell_type": "markdown",
      "id": "f8ff9c3d",
      "metadata": {
        "id": "f8ff9c3d"
      },
      "source": [
        "**IMPORTANT:** I could have put any type to ```x```, ```y``` and the return (even incorrect ones!). This just helps the reader but is not cheked at any point (they just need to be valid types)."
      ]
    },
    {
      "cell_type": "markdown",
      "id": "32dc72d7",
      "metadata": {
        "id": "32dc72d7"
      },
      "source": [
        "## <div id='return-tuple'>10. Example 6: function returning several objects as a tuple</div>"
      ]
    },
    {
      "cell_type": "code",
      "execution_count": null,
      "id": "f4ff4c50",
      "metadata": {
        "id": "f4ff4c50"
      },
      "outputs": [],
      "source": [
        "def return_multiple_objects(x, y) -> tuple:\n",
        "    return x+2, y+3"
      ]
    },
    {
      "cell_type": "markdown",
      "id": "e6ce9afa",
      "metadata": {
        "id": "e6ce9afa"
      },
      "source": [
        "Call the ```return_multiple_objects()``` function:"
      ]
    },
    {
      "cell_type": "code",
      "execution_count": null,
      "id": "2a835d5e",
      "metadata": {
        "id": "2a835d5e",
        "outputId": "b3679d4c-de87-4ad6-ef9d-7677f2bf651c"
      },
      "outputs": [
        {
          "name": "stdout",
          "output_type": "stream",
          "text": [
            "my_tuple = (3, 5)\n",
            "my_tuple[0] = 3\n",
            "my_tuple[1] = 5\n"
          ]
        }
      ],
      "source": [
        "my_tuple = return_multiple_objects(1,2)\n",
        "print(f'{my_tuple = }')  # get the tuple\n",
        "print(f'{my_tuple[0] = }')  # get first value of the tuple\n",
        "print(f'{my_tuple[1] = }')  # get second value of the tuple"
      ]
    },
    {
      "cell_type": "markdown",
      "id": "57d555d8",
      "metadata": {
        "id": "57d555d8"
      },
      "source": [
        "I could also retrieve values one by one using what is called \"tuple unpacking\":"
      ]
    },
    {
      "cell_type": "code",
      "execution_count": null,
      "id": "bbf1b76b",
      "metadata": {
        "id": "bbf1b76b",
        "outputId": "25465f29-2cf8-4560-a74c-3c8e64361615"
      },
      "outputs": [
        {
          "name": "stdout",
          "output_type": "stream",
          "text": [
            "a = 3\n",
            "b = 5\n"
          ]
        }
      ],
      "source": [
        "a, b = return_multiple_objects(1, 2)\n",
        "print(f'{a = }')\n",
        "print(f'{b = }')"
      ]
    },
    {
      "cell_type": "markdown",
      "id": "d126d3fb",
      "metadata": {
        "id": "d126d3fb"
      },
      "source": [
        "What about if I only care (i.e. will only use) the first return value?"
      ]
    },
    {
      "cell_type": "code",
      "execution_count": null,
      "id": "fc40ed01",
      "metadata": {
        "id": "fc40ed01"
      },
      "outputs": [],
      "source": [
        "a, _ = return_multiple_objects(1, 2)"
      ]
    },
    {
      "cell_type": "markdown",
      "id": "c07ce44c",
      "metadata": {
        "id": "c07ce44c"
      },
      "source": [
        "**Note:** ```_``` tells the reader that I will not use that variable"
      ]
    },
    {
      "cell_type": "markdown",
      "id": "1570366a",
      "metadata": {
        "id": "1570366a"
      },
      "source": [
        "## <div id='passing'>11. How objects are passed to functions?</div>\n",
        "\n",
        "### Mutable objects: call by reference"
      ]
    },
    {
      "cell_type": "code",
      "execution_count": null,
      "id": "ef70ea95",
      "metadata": {
        "id": "ef70ea95"
      },
      "outputs": [],
      "source": [
        "def update_list(x: list):\n",
        "    x += [3]"
      ]
    },
    {
      "cell_type": "code",
      "execution_count": null,
      "id": "2da21650",
      "metadata": {
        "id": "2da21650",
        "outputId": "f6a0fcb7-a1fd-465a-d94a-6710990c4887"
      },
      "outputs": [
        {
          "name": "stdout",
          "output_type": "stream",
          "text": [
            "my_list = [1, 2]\n",
            "my_list = [1, 2, 3]\n"
          ]
        }
      ],
      "source": [
        "my_list = [1, 2]\n",
        "print(f'{my_list = }')\n",
        "update_list(my_list)\n",
        "print(f'{my_list = }')"
      ]
    },
    {
      "cell_type": "markdown",
      "id": "5db79ab9",
      "metadata": {
        "id": "5db79ab9"
      },
      "source": [
        "In the example above, since ```my_list``` is mutable is passed by reference to the function and is updated."
      ]
    },
    {
      "cell_type": "markdown",
      "id": "e3101d59",
      "metadata": {
        "id": "e3101d59"
      },
      "source": [
        "### Immutable objects: pass by value"
      ]
    },
    {
      "cell_type": "code",
      "execution_count": null,
      "id": "5d6715de",
      "metadata": {
        "id": "5d6715de"
      },
      "outputs": [],
      "source": [
        "def update_number(x: int):\n",
        "    x += 2"
      ]
    },
    {
      "cell_type": "code",
      "execution_count": null,
      "id": "7074ae14",
      "metadata": {
        "id": "7074ae14",
        "outputId": "b5178540-8181-4364-9c38-64052d407c3a"
      },
      "outputs": [
        {
          "name": "stdout",
          "output_type": "stream",
          "text": [
            "n = 1\n",
            "n = 1\n"
          ]
        }
      ],
      "source": [
        "n = 1\n",
        "print(f'{n = }')\n",
        "update_number(n)\n",
        "print(f'{n = }')"
      ]
    },
    {
      "cell_type": "markdown",
      "id": "5c4e3a56",
      "metadata": {
        "id": "5c4e3a56"
      },
      "source": [
        "In the example above, since ```n``` in immutable, it can not be changed and only its value is passed to the function"
      ]
    },
    {
      "cell_type": "markdown",
      "id": "d07ad259",
      "metadata": {
        "id": "d07ad259"
      },
      "source": [
        "## <div id='args'>12. Arbitrary number of arguments (```*args```)</div>"
      ]
    },
    {
      "cell_type": "markdown",
      "id": "7d869226",
      "metadata": {
        "id": "7d869226"
      },
      "source": [
        "If you need to handle any number of arguments, add a ```*``` before the parameter's name in the function definition.\n",
        "\n",
        "This way the function will receive a tuple of arguments\n",
        "\n",
        "**Example:**"
      ]
    },
    {
      "cell_type": "code",
      "execution_count": null,
      "id": "129f703b",
      "metadata": {
        "id": "129f703b",
        "outputId": "dd270e79-b7af-4b3b-f44f-31a7556f1140"
      },
      "outputs": [
        {
          "name": "stdout",
          "output_type": "stream",
          "text": [
            "sum_values(1, 2, 3)   = 6\n",
            "sum_values(1, 2, 3, 4) = 10\n"
          ]
        }
      ],
      "source": [
        "def sum_values(*args):\n",
        "    return sum(args)\n",
        "\n",
        "print(f'{sum_values(1, 2, 3)   = }')\n",
        "print(f'{sum_values(1, 2, 3, 4) = }')"
      ]
    },
    {
      "cell_type": "markdown",
      "id": "a8f99ad0",
      "metadata": {
        "id": "a8f99ad0"
      },
      "source": [
        "## <div id='keyword-arguments'>13. Keyword Arguments</div>\n",
        "\n",
        "You can also send arguments with the ```key = value``` syntax.\n",
        "\n",
        "This way the order of the arguments doesn't matter.\n",
        "\n",
        "**Example:**"
      ]
    },
    {
      "cell_type": "code",
      "execution_count": null,
      "id": "5aedcbd8",
      "metadata": {
        "id": "5aedcbd8",
        "outputId": "713b15d4-3310-4d1c-dc14-19d4b8425291"
      },
      "outputs": [
        {
          "name": "stdout",
          "output_type": "stream",
          "text": [
            "The youngest child is Markus\n"
          ]
        }
      ],
      "source": [
        "def my_function(child3, child2, child1):\n",
        "    print('The youngest child is ' + child3)\n",
        "\n",
        "my_function(child1 = 'Lukas', child2 = 'Tobias', child3 = 'Markus')"
      ]
    },
    {
      "cell_type": "markdown",
      "id": "35043ce1",
      "metadata": {
        "id": "35043ce1"
      },
      "source": [
        "**Note:** one could use a dictionary as well (in that case the order of the arguments do matter!):"
      ]
    },
    {
      "cell_type": "code",
      "execution_count": null,
      "id": "d79e3452",
      "metadata": {
        "id": "d79e3452",
        "outputId": "e0c9557f-204f-49b4-b7af-58cc4cf65f75"
      },
      "outputs": [
        {
          "name": "stdout",
          "output_type": "stream",
          "text": [
            "The youngest child is Markus\n"
          ]
        }
      ],
      "source": [
        "child_names = {'child1': 'Lukas', 'child2': 'Tobias', 'child3': 'Markus'}\n",
        "\n",
        "def my_function(child1, child2, child3):\n",
        "    print('The youngest child is ' + child3)\n",
        "\n",
        "my_function(**child_names)"
      ]
    },
    {
      "cell_type": "markdown",
      "id": "90bd0138",
      "metadata": {
        "id": "90bd0138"
      },
      "source": [
        "**Note:** ```**child_names``` makes Python interpret the arguments as a dictionary."
      ]
    },
    {
      "cell_type": "markdown",
      "id": "0056e5f7",
      "metadata": {
        "id": "0056e5f7"
      },
      "source": [
        "## <div id='kargs'>14. Arbitrary Keyword Arguments (```**kargs```)</div>"
      ]
    },
    {
      "cell_type": "code",
      "execution_count": null,
      "id": "7734142c",
      "metadata": {
        "id": "7734142c",
        "outputId": "2363a3e1-b825-44f3-b6ec-160f6781a931"
      },
      "outputs": [
        {
          "name": "stdout",
          "output_type": "stream",
          "text": [
            "The lastname of Miguel is Fernandez\n"
          ]
        }
      ],
      "source": [
        "def my_function(**kid):\n",
        "    print(f'The lastname of {kid[\"fname\"]} is {kid[\"lname\"]}')\n",
        "\n",
        "my_function(fname = \"Miguel\", lname = \"Fernandez\")"
      ]
    },
    {
      "cell_type": "markdown",
      "id": "ccac64b5",
      "metadata": {
        "id": "ccac64b5"
      },
      "source": [
        "## <div id='optional-argument'>15. Default Parameter Value (i.e. optional argument)</div>\n",
        "\n",
        "In the following example, the argument ```convert``` if it is not provided, will be ```False``` by default"
      ]
    },
    {
      "cell_type": "code",
      "execution_count": null,
      "id": "abcb1e9c",
      "metadata": {
        "id": "abcb1e9c"
      },
      "outputs": [],
      "source": [
        "from math import sqrt\n",
        "def square_root(val: float, convert: bool = False) -> float:\n",
        "    return sqrt(val*0.001) if convert else sqrt(val)"
      ]
    },
    {
      "cell_type": "code",
      "execution_count": null,
      "id": "ff063157",
      "metadata": {
        "id": "ff063157",
        "outputId": "48012ab8-d08c-41a6-d802-9f5d054764e7"
      },
      "outputs": [
        {
          "name": "stdout",
          "output_type": "stream",
          "text": [
            "square_root(1000) = 31.622776601683793\n",
            "square_root(1000, True) = 1.0\n"
          ]
        }
      ],
      "source": [
        "print(f'{square_root(1000) = }')\n",
        "print(f'{square_root(1000, True) = }')"
      ]
    },
    {
      "cell_type": "markdown",
      "id": "8dacfdff",
      "metadata": {
        "id": "8dacfdff"
      },
      "source": [
        "## A function can call another function or itself\n",
        "\n",
        "**Example:**"
      ]
    },
    {
      "cell_type": "code",
      "execution_count": null,
      "id": "45f1f0fa",
      "metadata": {
        "id": "45f1f0fa",
        "outputId": "277c0e71-be39-4bdd-81d8-d90339dbbbb2"
      },
      "outputs": [
        {
          "name": "stdout",
          "output_type": "stream",
          "text": [
            "calc(2) = 8\n"
          ]
        }
      ],
      "source": [
        "def f(x: int) -> int:\n",
        "    return x**2\n",
        "\n",
        "def calc(x: int) -> int:\n",
        "    if x:\n",
        "        return x + f(x) + calc(x-1)\n",
        "    else:\n",
        "        return 0\n",
        "\n",
        "print(f'{calc(2) = }')"
      ]
    },
    {
      "cell_type": "markdown",
      "id": "77469f99",
      "metadata": {
        "id": "77469f99"
      },
      "source": [
        "## Returning ```NotImplemented```\n",
        "\n",
        "```NotImplemented``` is a built-in constant.\n",
        "\n",
        "<u>Syntax:</u>\n",
        "```\n",
        "def my_function():\n",
        "    return NotImplemented\n",
        "```"
      ]
    },
    {
      "cell_type": "markdown",
      "id": "484280a6",
      "metadata": {
        "id": "484280a6"
      },
      "source": [
        "## <div id='helpful-functions'>16. Few examples of helpful built-in functions</div>"
      ]
    },
    {
      "cell_type": "markdown",
      "id": "c1ddb8f0",
      "metadata": {
        "id": "c1ddb8f0"
      },
      "source": [
        "### Use math module to take the square root of a value"
      ]
    },
    {
      "cell_type": "code",
      "execution_count": null,
      "id": "d8b8fdee",
      "metadata": {
        "id": "d8b8fdee",
        "outputId": "60721b0a-f638-40c8-b8e8-a230e198da89"
      },
      "outputs": [
        {
          "name": "stdout",
          "output_type": "stream",
          "text": [
            "square_of_16 = 4.0\n"
          ]
        }
      ],
      "source": [
        "from math import sqrt\n",
        "square_of_16 = sqrt(16)\n",
        "print(f'{square_of_16 = }')"
      ]
    },
    {
      "cell_type": "markdown",
      "id": "2bc91dfd",
      "metadata": {
        "id": "2bc91dfd"
      },
      "source": [
        "### Use copy.deepcopy to copy a dict/list"
      ]
    },
    {
      "cell_type": "code",
      "execution_count": null,
      "id": "f989f845",
      "metadata": {
        "id": "f989f845",
        "outputId": "71987f9d-ca3e-448a-be85-f4cb6e37159a"
      },
      "outputs": [
        {
          "name": "stdout",
          "output_type": "stream",
          "text": [
            "dict_a = {'a': 1, 'b': 2}\n",
            "id(dict_a) = 1433939014016\n",
            "dict_b = {'a': 1, 'b': 2}\n",
            "id(dict_b) = 1433938945728\n"
          ]
        }
      ],
      "source": [
        "dict_a = {'a': 1,'b': 2}\n",
        "\n",
        "from copy import deepcopy\n",
        "\n",
        "dict_b = deepcopy(dict_a)\n",
        "\n",
        "print(f'{dict_a = }')\n",
        "print(f'{id(dict_a) = }')\n",
        "print(f'{dict_b = }')\n",
        "print(f'{id(dict_b) = }')"
      ]
    },
    {
      "cell_type": "markdown",
      "id": "45c5c8aa",
      "metadata": {
        "id": "45c5c8aa"
      },
      "source": [
        "**Note:**\n",
        "    \n",
        "* ```dict_a``` and ```dict_b``` have the same content but are different objects (```id()``` return different values)\n",
        "\n",
        "* if ```dict_a``` is modified, ```dict_b``` will not be modified as well!\n",
        "\n",
        "* The same can be done with any other mutable object (```list```, etc)"
      ]
    },
    {
      "cell_type": "markdown",
      "id": "99f26717",
      "metadata": {
        "id": "99f26717"
      },
      "source": [
        "### Round numbers with ```round()```"
      ]
    },
    {
      "cell_type": "code",
      "execution_count": null,
      "id": "daf8ef45",
      "metadata": {
        "id": "daf8ef45",
        "outputId": "b8d11a5e-df67-4aca-d6dd-8d71c7380801"
      },
      "outputs": [
        {
          "name": "stdout",
          "output_type": "stream",
          "text": [
            "number = 24.216312413\n"
          ]
        }
      ],
      "source": [
        "number = 24.216312413\n",
        "print(f'{number = }')"
      ]
    },
    {
      "cell_type": "markdown",
      "id": "d0ab6149",
      "metadata": {
        "id": "d0ab6149"
      },
      "source": [
        "Let's say I want the above number to have only two decimal digits"
      ]
    },
    {
      "cell_type": "code",
      "execution_count": null,
      "id": "90ba8eb3",
      "metadata": {
        "id": "90ba8eb3",
        "outputId": "fb88a86e-5169-4d1b-ce26-a1b7743134dc"
      },
      "outputs": [
        {
          "name": "stdout",
          "output_type": "stream",
          "text": [
            "rounded_number = 24.22\n"
          ]
        }
      ],
      "source": [
        "rounded_number = round(number, 2)\n",
        "print(f'{rounded_number = }')"
      ]
    },
    {
      "cell_type": "markdown",
      "id": "95738382",
      "metadata": {
        "id": "95738382"
      },
      "source": [
        "## <div id='lambda-functions'>17. Lambda functions</div>\n",
        "\n",
        "Python lambdas are small, anonymous functions, subject to a more restrictive but more concise syntax than regular Python functions.\n",
        "\n",
        "<u>Syntax:</u>\n",
        "\n",
        "```\n",
        "lambda argument : return_value\n",
        "```\n",
        "\n",
        "Let's see how lambda functions work by an example. The following two functions (```get_age()``` and ```get_age_lambda()```) are equivalent:"
      ]
    },
    {
      "cell_type": "code",
      "execution_count": null,
      "id": "c5b87122",
      "metadata": {
        "id": "c5b87122",
        "outputId": "8149543d-5730-4d6b-8fb7-d93a02eb89f7"
      },
      "outputs": [
        {
          "name": "stdout",
          "output_type": "stream",
          "text": [
            "35\n",
            "32\n"
          ]
        }
      ],
      "source": [
        "users = {\n",
        "  'Roberta': {\n",
        "      'Age': 35,\n",
        "  },\n",
        "  'Florencia': {\n",
        "      'Age': 32,\n",
        "  }\n",
        "}\n",
        "\n",
        "def get_age(user: dict) -> int:\n",
        "    return user['Age']\n",
        "\n",
        "print(get_age(users['Roberta']))\n",
        "\n",
        "get_age_lambda = lambda x: x['Age']\n",
        "print(get_age_lambda(users['Florencia']))"
      ]
    },
    {
      "cell_type": "markdown",
      "id": "4a7a4297",
      "metadata": {
        "id": "4a7a4297"
      },
      "source": [
        "### Lambda function with multiple arguments\n",
        "\n",
        "Arguments are separated by a comma (```,```)"
      ]
    },
    {
      "cell_type": "code",
      "execution_count": null,
      "id": "276e20ef",
      "metadata": {
        "id": "276e20ef",
        "outputId": "5520421d-1f1f-4491-cf2b-a2d6900c9be8"
      },
      "outputs": [
        {
          "name": "stdout",
          "output_type": "stream",
          "text": [
            "Jonathan, Bossio\n"
          ]
        }
      ],
      "source": [
        "full_name = lambda fname, lname: f'{lname}, {fname}'\n",
        "print(full_name('Bossio', 'Jonathan'))"
      ]
    },
    {
      "cell_type": "markdown",
      "id": "2b11e05a",
      "metadata": {
        "id": "2b11e05a"
      },
      "source": [
        "### Real world example: sort a dictionary"
      ]
    },
    {
      "cell_type": "code",
      "execution_count": null,
      "id": "ad6138cb",
      "metadata": {
        "id": "ad6138cb",
        "outputId": "b0546517-ad3d-46c7-8bd7-614fd3b67803"
      },
      "outputs": [
        {
          "name": "stdout",
          "output_type": "stream",
          "text": [
            "Unordered database: [{'Name': 'Pedro', 'Age': 32}, {'Name': 'Maria', 'Age': 27}, {'Name': 'Caterina', 'Age': 22}]\n",
            "Ordered database:   [{'Name': 'Caterina', 'Age': 22}, {'Name': 'Maria', 'Age': 27}, {'Name': 'Pedro', 'Age': 32}]\n"
          ]
        }
      ],
      "source": [
        "database = [\n",
        "    {'Name':'Pedro', 'Age': 32},\n",
        "    {'Name':'Maria', 'Age': 27},\n",
        "    {'Name':'Caterina', 'Age': 22},\n",
        "]\n",
        "database_sorted = sorted(database, key = lambda x: x['Age']) # key must be a function (here a lambda function)\n",
        "print(f'Unordered database: {database}')\n",
        "print(f'Ordered database:   {database_sorted}')"
      ]
    },
    {
      "cell_type": "markdown",
      "id": "0f0e4599",
      "metadata": {
        "id": "0f0e4599"
      },
      "source": [
        "**Note:**\n",
        "\n",
        "The ```sorted()``` function returns a sorted list of the provided iterable object.\n",
        "\n",
        "You can specify ascending or descending order. Strings are sorted alphabetically, and numbers are sorted numerically.\n",
        "\n",
        "<u>Syntax:</u>:\n",
        "```\n",
        " sorted(iterable, key=key, reverse=reverse)\n",
        "```"
      ]
    },
    {
      "cell_type": "markdown",
      "id": "e88160a5",
      "metadata": {
        "id": "e88160a5"
      },
      "source": [
        "## <div id='map-function'>18. The ```map()``` function</div>\n",
        "\n",
        "The ```map()``` function applies a given function to each item of an iterable (set, list, tuple, etc) and returns an iterator.\n",
        "\n",
        "<u>Syntax:</u>\n",
        "```\n",
        "map(function, iterable, ...)\n",
        "```\n",
        "\n",
        "**Note:** you can pass more than one iterable.\n",
        "\n",
        "**Example:**"
      ]
    },
    {
      "cell_type": "code",
      "execution_count": null,
      "id": "ed3257cc",
      "metadata": {
        "id": "ed3257cc",
        "outputId": "bba987bc-6aa9-4bf7-9c25-f9c754c2984f"
      },
      "outputs": [
        {
          "name": "stdout",
          "output_type": "stream",
          "text": [
            "[1, 4, 9, 16, 25]\n"
          ]
        }
      ],
      "source": [
        "numbers = [1, 2, 3, 4, 5]\n",
        "\n",
        "def square(n: int) -> int:\n",
        "    \"\"\"Return the square of an integer number\"\"\"\n",
        "    return n * n\n",
        "\n",
        "# apply square() to each item of the numbers list and convert to a list\n",
        "squared_numbers = list(map(square, numbers))\n",
        "print(squared_numbers)"
      ]
    },
    {
      "cell_type": "markdown",
      "id": "61887add",
      "metadata": {
        "id": "61887add"
      },
      "source": [
        "## <div id='decorators'>19. Function decorators</div>\n",
        "\n",
        "A decorator is a function that takes another function as its argument, and returns another function.\n",
        "\n",
        "For example, let's create a function such that we can print a message before and after a function is called. This could be used to keep track of function calls and for debugging."
      ]
    },
    {
      "cell_type": "code",
      "execution_count": null,
      "id": "c426e6da",
      "metadata": {
        "id": "c426e6da"
      },
      "outputs": [],
      "source": [
        "def decor(f):\n",
        "    def wrapper():\n",
        "        print('First line')\n",
        "        f()\n",
        "        print('Third line')\n",
        "    return wrapper"
      ]
    },
    {
      "cell_type": "markdown",
      "id": "6b49cd04",
      "metadata": {
        "id": "6b49cd04"
      },
      "source": [
        "Let's create now a ```f``` function:"
      ]
    },
    {
      "cell_type": "code",
      "execution_count": null,
      "id": "a83ad8db",
      "metadata": {
        "id": "a83ad8db"
      },
      "outputs": [],
      "source": [
        "def f():\n",
        "    print('Second line')"
      ]
    },
    {
      "cell_type": "markdown",
      "id": "dbea6095",
      "metadata": {
        "id": "dbea6095"
      },
      "source": [
        "Let's now redefine f as:"
      ]
    },
    {
      "cell_type": "code",
      "execution_count": null,
      "id": "0aca7924",
      "metadata": {
        "id": "0aca7924"
      },
      "outputs": [],
      "source": [
        "f = decor(f)"
      ]
    },
    {
      "cell_type": "markdown",
      "id": "35f791a0",
      "metadata": {
        "id": "35f791a0"
      },
      "source": [
        "Let's see what happens if we call f:"
      ]
    },
    {
      "cell_type": "code",
      "execution_count": null,
      "id": "c41d06df",
      "metadata": {
        "id": "c41d06df",
        "outputId": "a3ff732c-7a5c-4ff2-bd32-cfa58938aab9"
      },
      "outputs": [
        {
          "name": "stdout",
          "output_type": "stream",
          "text": [
            "First line\n",
            "Second line\n",
            "Third line\n"
          ]
        }
      ],
      "source": [
        "f()"
      ]
    },
    {
      "cell_type": "markdown",
      "id": "e6f63cd5",
      "metadata": {
        "id": "e6f63cd5"
      },
      "source": [
        "As you can see, ```f()``` printed, as desired, the corresponding messages before/after the function is executed."
      ]
    },
    {
      "cell_type": "markdown",
      "id": "ff201c7a",
      "metadata": {
        "id": "ff201c7a"
      },
      "source": [
        "The ```decor()``` function is a decorator and ```f = decor(f)``` can be achieved by adding ```@decor``` right above the definition of the function ```f()```:"
      ]
    },
    {
      "cell_type": "code",
      "execution_count": null,
      "id": "3d03294d",
      "metadata": {
        "id": "3d03294d"
      },
      "outputs": [],
      "source": [
        "@decor\n",
        "def f():\n",
        "    print('Second line')"
      ]
    },
    {
      "cell_type": "markdown",
      "id": "9270f1ee",
      "metadata": {
        "id": "9270f1ee"
      },
      "source": [
        "Let's check what ```f()``` does now:"
      ]
    },
    {
      "cell_type": "code",
      "execution_count": null,
      "id": "760f3d77",
      "metadata": {
        "id": "760f3d77",
        "outputId": "1c34dad4-1f64-4a73-c342-78e9bd7f1f39"
      },
      "outputs": [
        {
          "name": "stdout",
          "output_type": "stream",
          "text": [
            "First line\n",
            "Second line\n",
            "Third line\n"
          ]
        }
      ],
      "source": [
        "f()"
      ]
    },
    {
      "cell_type": "markdown",
      "id": "0e112a06",
      "metadata": {
        "id": "0e112a06"
      },
      "source": [
        "As you can see, it prints exactly the same as before."
      ]
    },
    {
      "cell_type": "markdown",
      "id": "ac57f482",
      "metadata": {
        "id": "ac57f482"
      },
      "source": [
        "Let's now decorate a function that takes arguments and returns something. In this case, the ```wrapper()``` function needs to have arguments and pass them to the ```f()``` function and return the result of the function.\n",
        "\n",
        "Let's take a look at this example in which I print some information which could, once again, be helpful for debugging purposes. In this cases, the decorator prints the name of the function together with the provided arguments, and what the function returned."
      ]
    },
    {
      "cell_type": "code",
      "execution_count": null,
      "id": "cb816d11",
      "metadata": {
        "id": "cb816d11",
        "outputId": "2daa10c8-2fc1-4a2b-9329-0263140522b4"
      },
      "outputs": [
        {
          "name": "stdout",
          "output_type": "stream",
          "text": [
            "DEBUG: Calling sum_args with arguments=(100, 200)\n",
            "DEBUG: sum_args returned 300\n"
          ]
        }
      ],
      "source": [
        "from functools import wraps\n",
        "\n",
        "def debug(f):\n",
        "    @wraps(f)  # this will preserve information about the original function (for example, to get correct f.__name__)\n",
        "    def wrapper(*args):\n",
        "        print(f'DEBUG: Calling {f.__name__} with arguments={args}')\n",
        "        result = f(*args)\n",
        "        print(f'DEBUG: {f.__name__} returned {result}')\n",
        "        return result\n",
        "    return wrapper\n",
        "\n",
        "@debug\n",
        "def sum_args(*args):\n",
        "    return sum(list(args))\n",
        "\n",
        "result = sum_args(100, 200)"
      ]
    },
    {
      "cell_type": "markdown",
      "id": "df560e01",
      "metadata": {
        "id": "df560e01"
      },
      "source": [
        "Let's now use multiple decorators, where one of them have arguments. The first decorator will be the ```debug``` decorator already defined above. The second one, will be a new one which is used to call a function multiple times, as many as requested."
      ]
    },
    {
      "cell_type": "code",
      "execution_count": null,
      "id": "1d914ac4",
      "metadata": {
        "id": "1d914ac4",
        "outputId": "979a4135-81df-4358-d450-7e40e3ac9b51"
      },
      "outputs": [
        {
          "name": "stdout",
          "output_type": "stream",
          "text": [
            "DEBUG: Calling print_hello with arguments=()\n",
            "Hello\n",
            "Hello\n",
            "Hello\n",
            "DEBUG: print_hello returned ['success', 'success', 'success']\n"
          ]
        },
        {
          "data": {
            "text/plain": [
              "['success', 'success', 'success']"
            ]
          },
          "execution_count": 48,
          "metadata": {},
          "output_type": "execute_result"
        }
      ],
      "source": [
        "def repeat(n = 2):\n",
        "    def repeat_decorator(f):\n",
        "        @wraps(f)\n",
        "        def repeater(*args):\n",
        "            result = [f(*args) for i in range(n)]\n",
        "            return result\n",
        "        return repeater\n",
        "    return repeat_decorator\n",
        "\n",
        "@debug\n",
        "@repeat(n = 3)\n",
        "def print_hello():\n",
        "    print('Hello')\n",
        "    return 'success'\n",
        "\n",
        "print_hello()"
      ]
    },
    {
      "cell_type": "markdown",
      "id": "2bd96e4e",
      "metadata": {
        "id": "2bd96e4e"
      },
      "source": [
        "Finally, let's use a decorator to keep track of how many times a function is called."
      ]
    },
    {
      "cell_type": "code",
      "execution_count": null,
      "id": "8a3941c8",
      "metadata": {
        "id": "8a3941c8"
      },
      "outputs": [],
      "source": [
        "FUNCTIONS = dict()\n",
        "CALLS = dict()\n",
        "\n",
        "def register(f):\n",
        "    FUNCTIONS[f.__name__] = f\n",
        "    return f\n",
        "\n",
        "def track(f):\n",
        "    @wraps(f)\n",
        "    def wrapper():\n",
        "        CALLS[f.__name__] += 1\n",
        "        f()\n",
        "    CALLS[f.__name__] = 0\n",
        "    return wrapper\n",
        "\n",
        "@register\n",
        "@track\n",
        "def hello():\n",
        "    print('Hello user')\n",
        "\n",
        "@register\n",
        "@track\n",
        "def bye():\n",
        "    print('bye user')"
      ]
    },
    {
      "cell_type": "markdown",
      "id": "7de15901",
      "metadata": {
        "id": "7de15901"
      },
      "source": [
        "Let's call many times the ```hello()``` and ```bye()``` functions and check if the dictionaries were filled correctly."
      ]
    },
    {
      "cell_type": "code",
      "execution_count": null,
      "id": "7eafc0da",
      "metadata": {
        "id": "7eafc0da",
        "outputId": "019abf76-efad-49b3-9db6-dc04c8791ef9"
      },
      "outputs": [
        {
          "name": "stdout",
          "output_type": "stream",
          "text": [
            "Hello user\n",
            "Hello user\n",
            "bye user\n",
            "Hello user\n",
            "bye user\n",
            "bye user\n",
            "Hello user\n",
            "bye user\n",
            "Hello user\n",
            "FUNCTIONS = {'hello': <function hello at 0x0000014DDD6F4C20>, 'bye': <function bye at 0x0000014DDD6F4D60>}\n",
            "CALLS = {'hello': 5, 'bye': 4}\n"
          ]
        }
      ],
      "source": [
        "hello()\n",
        "hello()\n",
        "bye()\n",
        "hello()\n",
        "bye()\n",
        "bye()\n",
        "hello()\n",
        "bye()\n",
        "hello()\n",
        "print(f'{FUNCTIONS = }')\n",
        "print(f'{CALLS = }')"
      ]
    },
    {
      "cell_type": "markdown",
      "id": "3f02ca18",
      "metadata": {
        "id": "3f02ca18"
      },
      "source": [
        "# <div id='exercises' align='center'>20. Exercises</div>\n",
        "\n",
        "Extra points if you:\n",
        "1. Comment what the function does\n",
        "2. Use type annotations"
      ]
    },
    {
      "cell_type": "markdown",
      "id": "2c4005f9",
      "metadata": {
        "id": "2c4005f9"
      },
      "source": [
        "## Exercise 1\n",
        "\n",
        "Create a function that takes a list of positive and negative integer values and returns a list of only those that are positive."
      ]
    },
    {
      "cell_type": "markdown",
      "id": "6d3ad23a",
      "metadata": {
        "id": "6d3ad23a"
      },
      "source": [
        "## Exercise 2\n",
        "\n",
        "Creat a function that evaluates the following function but returned value should have upto two decimals:\n",
        "\n",
        "if x >= 0:\n",
        "\n",
        " f(x) = 5 * (x-2) / 2\n",
        "\n",
        "if x <0:\n",
        "\n",
        " f(x) = 3 * (x-2)"
      ]
    },
    {
      "cell_type": "markdown",
      "id": "8c228c75",
      "metadata": {
        "id": "8c228c75"
      },
      "source": [
        "## Exercise 3\n",
        "\n",
        "Create a function that creates a dictionary using the first argument as the key, and any other argument is put into a list associated to that key. If no argument is provided, an empty dictionary should be returned."
      ]
    },
    {
      "cell_type": "markdown",
      "id": "04a6af83",
      "metadata": {
        "id": "04a6af83"
      },
      "source": [
        "## <div id='solutions' align='center'>20.A Solutions</div>"
      ]
    },
    {
      "cell_type": "markdown",
      "id": "ceb807e8",
      "metadata": {
        "id": "ceb807e8"
      },
      "source": [
        "### Answer exercise 1"
      ]
    },
    {
      "cell_type": "code",
      "execution_count": null,
      "id": "c45b0769",
      "metadata": {
        "id": "c45b0769",
        "outputId": "173c13c4-0926-4c62-cee2-519a9294a5ae"
      },
      "outputs": [
        {
          "name": "stdout",
          "output_type": "stream",
          "text": [
            "my_list = [-3, -2, 1, 4, 6]\n",
            "my_list_positives = [1, 4, 6]\n"
          ]
        }
      ],
      "source": [
        "def take_positives(input_list: list) -> list:\n",
        "    \"\"\"Return a list with only positive numbers from input_list\"\"\"\n",
        "    return [item for item in input_list if item >= 0]\n",
        "\n",
        "my_list = [-3, -2, 1, 4, 6]\n",
        "my_list_positives = take_positives(my_list)\n",
        "print(f'{my_list = }')\n",
        "print(f'{my_list_positives = }')"
      ]
    },
    {
      "cell_type": "markdown",
      "id": "31749070",
      "metadata": {
        "id": "31749070"
      },
      "source": [
        "### Answer exercise 2"
      ]
    },
    {
      "cell_type": "code",
      "execution_count": null,
      "id": "4666fb45",
      "metadata": {
        "id": "4666fb45",
        "outputId": "d44551e5-6163-46a5-9f8a-4d43d851c481"
      },
      "outputs": [
        {
          "name": "stdout",
          "output_type": "stream",
          "text": [
            "f(5.1) = 7.75\n",
            "f(-3.2) = -15.6\n"
          ]
        }
      ],
      "source": [
        "def f(x: float) -> float:\n",
        "    \"\"\"Returns 5(x-2)/2 if x>=0 and 3(x-2) if x<0, in both cases result is rounded to two decimals\"\"\"\n",
        "    if x >= 0:\n",
        "        return round(5 * (x-2) / 2, 2)\n",
        "    else:\n",
        "        return round(3 * (x-2), 2)\n",
        "\n",
        "print(f'{f(5.1) = }')\n",
        "print(f'{f(-3.2) = }')"
      ]
    },
    {
      "cell_type": "markdown",
      "id": "76283fec",
      "metadata": {
        "id": "76283fec"
      },
      "source": [
        "### Answer exercise 3"
      ]
    },
    {
      "cell_type": "code",
      "execution_count": null,
      "id": "d4b16583",
      "metadata": {
        "id": "d4b16583",
        "outputId": "f2238d04-d6dc-43e7-d108-d611a06e0bc1"
      },
      "outputs": [
        {
          "name": "stdout",
          "output_type": "stream",
          "text": [
            "my_dict_1 = {'a': [2, 3]}\n",
            "my_dict_2 = {'a': [2]}\n",
            "my_dict_3 = {'a': []}\n"
          ]
        }
      ],
      "source": [
        "def create_dict(*args) -> dict:\n",
        "    \"\"\"Create dictionary using first argument as key,\n",
        "    the rest of the arguments are put into a list and associated to such key\"\"\"\n",
        "    if len(args):\n",
        "        if len(args) > 1:\n",
        "            return {args[0]: [arg for arg in args[1:]]}\n",
        "        else:\n",
        "            return {args[0]: []}\n",
        "    return {}\n",
        "\n",
        "my_dict_1 = create_dict('a', 2, 3)\n",
        "print(f'{my_dict_1 = }')\n",
        "\n",
        "my_dict_2 = create_dict('a', 2)\n",
        "print(f'{my_dict_2 = }')\n",
        "\n",
        "my_dict_3 = create_dict('a')\n",
        "print(f'{my_dict_3 = }')"
      ]
    }
  ],
  "metadata": {
    "kernelspec": {
      "display_name": "Python 3",
      "language": "python",
      "name": "python3"
    },
    "language_info": {
      "codemirror_mode": {
        "name": "ipython",
        "version": 3
      },
      "file_extension": ".py",
      "mimetype": "text/x-python",
      "name": "python",
      "nbconvert_exporter": "python",
      "pygments_lexer": "ipython3",
      "version": "3.11.6"
    },
    "colab": {
      "provenance": []
    }
  },
  "nbformat": 4,
  "nbformat_minor": 5
}